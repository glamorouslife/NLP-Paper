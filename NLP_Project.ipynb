{
  "cells": [
    {
      "cell_type": "markdown",
      "metadata": {
        "id": "Pm3MSXpQLAxb"
      },
      "source": [
        "# Data Loading & Pre-Processing"
      ]
    },
    {
      "cell_type": "markdown",
      "metadata": {
        "id": "m89RGAw9aG5s"
      },
      "source": [
        "Dataset is located on github here: https://github.com/openai/gpt-2-output-dataset/blob/master/README.md"
      ]
    },
    {
      "cell_type": "code",
      "execution_count": null,
      "metadata": {
        "colab": {
          "base_uri": "https://localhost:8080/"
        },
        "id": "aXtk2Mt80Ogw",
        "outputId": "dcad3fd0-58a9-4e25-97d6-19b9fe68de98"
      },
      "outputs": [
        {
          "name": "stderr",
          "output_type": "stream",
          "text": [
            "Fetching xl-1542M-k40.train.jsonl: 748Mit [00:11, 67.1Mit/s]                                        \n"
          ]
        }
      ],
      "source": [
        "import os\n",
        "import sys\n",
        "import requests\n",
        "from tqdm import tqdm\n",
        "\n",
        "subdir = 'data'\n",
        "if not os.path.exists(subdir):\n",
        "    os.makedirs(subdir)\n",
        "subdir = subdir.replace('\\\\','/') # needed for Windows\n",
        "\n",
        "\n",
        "# Just downloading outputs from strongest version (xl-1542M)\n",
        "\n",
        "# The dataset contains train, valid and test sets, but the number of samples\n",
        "# is so large that we only need the training set (250,000 samples)\n",
        "filename = 'xl-1542M-k40.train.jsonl'\n",
        "r = requests.get(\"https://openaipublic.azureedge.net/gpt-2/output-dataset/v1/\" + filename, stream=True)\n",
        "\n",
        "with open(os.path.join(subdir, filename), 'wb') as f:\n",
        "    file_size = int(r.headers[\"content-length\"])\n",
        "    chunk_size = 1000\n",
        "    with tqdm(ncols=100, desc=\"Fetching \" + filename, total=file_size, unit_scale=True) as pbar:\n",
        "        # 1k for chunk_size, since Ethernet packet size is around 1500 bytes\n",
        "        for chunk in r.iter_content(chunk_size=chunk_size):\n",
        "            f.write(chunk)\n",
        "            pbar.update(chunk_size)"
      ]
    },
    {
      "cell_type": "code",
      "execution_count": null,
      "metadata": {
        "id": "GuoADGNwzRj3"
      },
      "outputs": [],
      "source": [
        "import pandas as pd"
      ]
    },
    {
      "cell_type": "code",
      "execution_count": null,
      "metadata": {
        "id": "BCh5MTTODWQo"
      },
      "outputs": [],
      "source": [
        "ai_df = pd.read_json('/content/data/xl-1542M-k40.train.jsonl', lines=True)"
      ]
    },
    {
      "cell_type": "code",
      "execution_count": null,
      "metadata": {
        "colab": {
          "base_uri": "https://localhost:8080/"
        },
        "id": "f4XJEIpHj_SK",
        "outputId": "1e35980d-d973-42d1-b350-af4dbe1459d5"
      },
      "outputs": [
        {
          "name": "stdout",
          "output_type": "stream",
          "text": [
            "Number of AI text articles: 250000\n"
          ]
        }
      ],
      "source": [
        "# Confirm length is correct (250,000 expected)\n",
        "print(\"Number of AI text articles: \" + str(len(ai_df)))"
      ]
    },
    {
      "cell_type": "code",
      "execution_count": null,
      "metadata": {
        "colab": {
          "base_uri": "https://localhost:8080/",
          "height": 204
        },
        "id": "lnNxwE5gEtF2",
        "outputId": "11f34f2c-0e5e-45c5-8e7d-dff57ac4b5f4"
      },
      "outputs": [
        {
          "data": {
            "text/html": [
              "<div>\n",
              "<style scoped>\n",
              "    .dataframe tbody tr th:only-of-type {\n",
              "        vertical-align: middle;\n",
              "    }\n",
              "\n",
              "    .dataframe tbody tr th {\n",
              "        vertical-align: top;\n",
              "    }\n",
              "\n",
              "    .dataframe thead th {\n",
              "        text-align: right;\n",
              "    }\n",
              "</style>\n",
              "<table border=\"1\" class=\"dataframe\">\n",
              "  <thead>\n",
              "    <tr style=\"text-align: right;\">\n",
              "      <th></th>\n",
              "      <th>id</th>\n",
              "      <th>text</th>\n",
              "      <th>length</th>\n",
              "      <th>ended</th>\n",
              "    </tr>\n",
              "  </thead>\n",
              "  <tbody>\n",
              "    <tr>\n",
              "      <th>0</th>\n",
              "      <td>1</td>\n",
              "      <td>Cops will have to take \"extreme care\" to avoid...</td>\n",
              "      <td>433</td>\n",
              "      <td>True</td>\n",
              "    </tr>\n",
              "    <tr>\n",
              "      <th>1</th>\n",
              "      <td>2</td>\n",
              "      <td>The latest edition of the German Football Hall...</td>\n",
              "      <td>715</td>\n",
              "      <td>True</td>\n",
              "    </tr>\n",
              "    <tr>\n",
              "      <th>2</th>\n",
              "      <td>3</td>\n",
              "      <td>Dangerous animals, especially snakes, in a car...</td>\n",
              "      <td>1024</td>\n",
              "      <td>False</td>\n",
              "    </tr>\n",
              "    <tr>\n",
              "      <th>3</th>\n",
              "      <td>4</td>\n",
              "      <td>I started my first MLP story way back in 2014 ...</td>\n",
              "      <td>1024</td>\n",
              "      <td>False</td>\n",
              "    </tr>\n",
              "    <tr>\n",
              "      <th>4</th>\n",
              "      <td>5</td>\n",
              "      <td>This article is a disambiguation page for The ...</td>\n",
              "      <td>84</td>\n",
              "      <td>True</td>\n",
              "    </tr>\n",
              "  </tbody>\n",
              "</table>\n",
              "</div>"
            ],
            "text/plain": [
              "   id                                               text  length  ended\n",
              "0   1  Cops will have to take \"extreme care\" to avoid...     433   True\n",
              "1   2  The latest edition of the German Football Hall...     715   True\n",
              "2   3  Dangerous animals, especially snakes, in a car...    1024  False\n",
              "3   4  I started my first MLP story way back in 2014 ...    1024  False\n",
              "4   5  This article is a disambiguation page for The ...      84   True"
            ]
          },
          "execution_count": 5,
          "metadata": {
            "tags": []
          },
          "output_type": "execute_result"
        }
      ],
      "source": [
        "ai_df.head()"
      ]
    },
    {
      "cell_type": "code",
      "execution_count": null,
      "metadata": {
        "colab": {
          "base_uri": "https://localhost:8080/",
          "height": 157
        },
        "id": "8sn68otOE14d",
        "outputId": "672d528e-a1c9-4f1a-9499-c4dd7f2e021c"
      },
      "outputs": [
        {
          "data": {
            "application/vnd.google.colaboratory.intrinsic+json": {
              "type": "string"
            },
            "text/plain": [
              "'Cops will have to take \"extreme care\" to avoid jail-breaking the latest iPhones as the US government will fine manufacturers for breaking its digital security.\\n\\nApple has been criticised for designing and releasing its latest smartphone without any security measures.\\n\\nApple has defended the iPhone 6 for carrying out some of its advanced security measures, but will be fined if it continues to fail that test.\\n\\nThe Federal Communications Commission and FBI will be allowed to fine companies as much as $25,000 (£17,800) for not patching bugs after they are announced.\\n\\nThe FCC, under a new ruling from president Obama , will allow fines of $1,500 per device over the same \"bug bounty\".\\n\\nThere have been multiple hacks into iPhone 6 smartphones this year in the wake of the 2013 revelation that the device could be unlocked with a passcode lock.\\n\\nHowever, security experts have criticised Apple\\'s software and device for not patching its bugs to prevent them becoming the latest weapon in the fight for online privacy.\\n\\nUS congressman Ted Lieu warned, \"We\\'re watching the FBI and the government take an old security issue — cracking open a closed device — and turn it into a brand new security issue with the advent of a new device.\"\\n\\nHis Democratic colleague Senator Mark Warner echoed a similar sentiment, saying: \"If the FBI is successful with this program, it could make it much more difficult for law-abiding Americans to protect their privacy.\"\\n\\nHowever, one leading security researcher said he believed the government was not seeking Apple\\'s help to fight off a criminal.\\n\\n\"They don\\'t see the need for Apple — they don\\'t see much of a market for new iPhones now,\" said Matthew Green.\\n\\nGreen believes the government wants new devices because it is concerned a new smartphone with facial recognition capabilities might become a tool for terrorists.\\n\\n\"These are not necessarily criminals — these are extremists,\" he said.\\n\\n\"If you have someone with a gun strapped to their body — if you want the FBI to stop that, then you want to lock that phone, and then lock it.\"'"
            ]
          },
          "execution_count": 6,
          "metadata": {
            "tags": []
          },
          "output_type": "execute_result"
        }
      ],
      "source": [
        "# Printing first output\n",
        "ai_df.iloc[0, 1]"
      ]
    },
    {
      "cell_type": "code",
      "execution_count": null,
      "metadata": {
        "colab": {
          "base_uri": "https://localhost:8080/"
        },
        "id": "ngOe9hXGSHmh",
        "outputId": "22aca68a-23e1-4269-e296-3ad1e18fb84f"
      },
      "outputs": [
        {
          "name": "stdout",
          "output_type": "stream",
          "text": [
            "# of AI samples after dropping incomplete text: 175735\n"
          ]
        }
      ],
      "source": [
        "# Only keep articles where ended == True\n",
        "ai_df = ai_df[ai_df['ended']==True]\n",
        "\n",
        "print(\"# of AI samples after dropping incomplete text: \" + str(len(ai_df)))"
      ]
    },
    {
      "cell_type": "code",
      "execution_count": null,
      "metadata": {
        "colab": {
          "base_uri": "https://localhost:8080/",
          "height": 204
        },
        "id": "GUlKJqp0A8r5",
        "outputId": "52665fdd-c011-4b71-9a28-83f87e21f92c"
      },
      "outputs": [
        {
          "data": {
            "text/html": [
              "<div>\n",
              "<style scoped>\n",
              "    .dataframe tbody tr th:only-of-type {\n",
              "        vertical-align: middle;\n",
              "    }\n",
              "\n",
              "    .dataframe tbody tr th {\n",
              "        vertical-align: top;\n",
              "    }\n",
              "\n",
              "    .dataframe thead th {\n",
              "        text-align: right;\n",
              "    }\n",
              "</style>\n",
              "<table border=\"1\" class=\"dataframe\">\n",
              "  <thead>\n",
              "    <tr style=\"text-align: right;\">\n",
              "      <th></th>\n",
              "      <th>text</th>\n",
              "    </tr>\n",
              "  </thead>\n",
              "  <tbody>\n",
              "    <tr>\n",
              "      <th>0</th>\n",
              "      <td>Cops will have to take \"extreme care\" to avoid...</td>\n",
              "    </tr>\n",
              "    <tr>\n",
              "      <th>1</th>\n",
              "      <td>The latest edition of the German Football Hall...</td>\n",
              "    </tr>\n",
              "    <tr>\n",
              "      <th>4</th>\n",
              "      <td>This article is a disambiguation page for The ...</td>\n",
              "    </tr>\n",
              "    <tr>\n",
              "      <th>9</th>\n",
              "      <td>What is it?\\n\\nIt's a video game that's a comb...</td>\n",
              "    </tr>\n",
              "    <tr>\n",
              "      <th>10</th>\n",
              "      <td>Greetings Saviors!We hope you're all well and ...</td>\n",
              "    </tr>\n",
              "  </tbody>\n",
              "</table>\n",
              "</div>"
            ],
            "text/plain": [
              "                                                 text\n",
              "0   Cops will have to take \"extreme care\" to avoid...\n",
              "1   The latest edition of the German Football Hall...\n",
              "4   This article is a disambiguation page for The ...\n",
              "9   What is it?\\n\\nIt's a video game that's a comb...\n",
              "10  Greetings Saviors!We hope you're all well and ..."
            ]
          },
          "execution_count": 8,
          "metadata": {
            "tags": []
          },
          "output_type": "execute_result"
        }
      ],
      "source": [
        "# Now dropping the \"ended\" and \"length\" columns \n",
        "ai_df.drop(labels=['ended', 'length', 'id'], axis=1, inplace=True)\n",
        "\n",
        "ai_df.head()"
      ]
    },
    {
      "cell_type": "markdown",
      "metadata": {
        "id": "sVTSEAZMo6BV"
      },
      "source": [
        "## Download to Pre-Processing Human-Authored Real/Fake News"
      ]
    },
    {
      "cell_type": "markdown",
      "metadata": {
        "id": "h5hGMCEwpCjm"
      },
      "source": [
        "Manually uploaded files from: https://www.kaggle.com/clmentbisaillon/fake-and-real-news-dataset/download\n",
        "\n"
      ]
    },
    {
      "cell_type": "code",
      "execution_count": null,
      "metadata": {
        "id": "7LLN-0KJsOKF"
      },
      "outputs": [],
      "source": [
        "real_df = pd.read_csv('/content/True.csv')\n",
        "fake_df = pd.read_csv('/content/Fake.csv')"
      ]
    },
    {
      "cell_type": "code",
      "execution_count": null,
      "metadata": {
        "colab": {
          "base_uri": "https://localhost:8080/"
        },
        "id": "h2M6vjQYwfxp",
        "outputId": "67b1c19a-fa89-4147-8579-99bc98a87df2"
      },
      "outputs": [
        {
          "name": "stdout",
          "output_type": "stream",
          "text": [
            "# Real articles: 21417\n",
            "# Fake articles: 23481\n"
          ]
        }
      ],
      "source": [
        "print(\"# Real articles: \" + str(len(real_df)))\n",
        "\n",
        "print(\"# Fake articles: \" + str(len(fake_df)))"
      ]
    },
    {
      "cell_type": "code",
      "execution_count": null,
      "metadata": {
        "colab": {
          "base_uri": "https://localhost:8080/",
          "height": 204
        },
        "id": "iz24xCjv1yhx",
        "outputId": "9957666c-5441-4cba-d916-8d849461c739"
      },
      "outputs": [
        {
          "data": {
            "text/html": [
              "<div>\n",
              "<style scoped>\n",
              "    .dataframe tbody tr th:only-of-type {\n",
              "        vertical-align: middle;\n",
              "    }\n",
              "\n",
              "    .dataframe tbody tr th {\n",
              "        vertical-align: top;\n",
              "    }\n",
              "\n",
              "    .dataframe thead th {\n",
              "        text-align: right;\n",
              "    }\n",
              "</style>\n",
              "<table border=\"1\" class=\"dataframe\">\n",
              "  <thead>\n",
              "    <tr style=\"text-align: right;\">\n",
              "      <th></th>\n",
              "      <th>title</th>\n",
              "      <th>text</th>\n",
              "      <th>subject</th>\n",
              "      <th>date</th>\n",
              "    </tr>\n",
              "  </thead>\n",
              "  <tbody>\n",
              "    <tr>\n",
              "      <th>0</th>\n",
              "      <td>As U.S. budget fight looms, Republicans flip t...</td>\n",
              "      <td>WASHINGTON (Reuters) - The head of a conservat...</td>\n",
              "      <td>politicsNews</td>\n",
              "      <td>December 31, 2017</td>\n",
              "    </tr>\n",
              "    <tr>\n",
              "      <th>1</th>\n",
              "      <td>U.S. military to accept transgender recruits o...</td>\n",
              "      <td>WASHINGTON (Reuters) - Transgender people will...</td>\n",
              "      <td>politicsNews</td>\n",
              "      <td>December 29, 2017</td>\n",
              "    </tr>\n",
              "    <tr>\n",
              "      <th>2</th>\n",
              "      <td>Senior U.S. Republican senator: 'Let Mr. Muell...</td>\n",
              "      <td>WASHINGTON (Reuters) - The special counsel inv...</td>\n",
              "      <td>politicsNews</td>\n",
              "      <td>December 31, 2017</td>\n",
              "    </tr>\n",
              "    <tr>\n",
              "      <th>3</th>\n",
              "      <td>FBI Russia probe helped by Australian diplomat...</td>\n",
              "      <td>WASHINGTON (Reuters) - Trump campaign adviser ...</td>\n",
              "      <td>politicsNews</td>\n",
              "      <td>December 30, 2017</td>\n",
              "    </tr>\n",
              "    <tr>\n",
              "      <th>4</th>\n",
              "      <td>Trump wants Postal Service to charge 'much mor...</td>\n",
              "      <td>SEATTLE/WASHINGTON (Reuters) - President Donal...</td>\n",
              "      <td>politicsNews</td>\n",
              "      <td>December 29, 2017</td>\n",
              "    </tr>\n",
              "  </tbody>\n",
              "</table>\n",
              "</div>"
            ],
            "text/plain": [
              "                                               title  ...                date\n",
              "0  As U.S. budget fight looms, Republicans flip t...  ...  December 31, 2017 \n",
              "1  U.S. military to accept transgender recruits o...  ...  December 29, 2017 \n",
              "2  Senior U.S. Republican senator: 'Let Mr. Muell...  ...  December 31, 2017 \n",
              "3  FBI Russia probe helped by Australian diplomat...  ...  December 30, 2017 \n",
              "4  Trump wants Postal Service to charge 'much mor...  ...  December 29, 2017 \n",
              "\n",
              "[5 rows x 4 columns]"
            ]
          },
          "execution_count": 11,
          "metadata": {
            "tags": []
          },
          "output_type": "execute_result"
        }
      ],
      "source": [
        "# Viewing dataframe\n",
        "real_df.head()"
      ]
    },
    {
      "cell_type": "code",
      "execution_count": null,
      "metadata": {
        "colab": {
          "base_uri": "https://localhost:8080/",
          "height": 204
        },
        "id": "9vVJ6Ivq0NOd",
        "outputId": "8c8cf00b-fbaf-4efb-886c-71634aafb877"
      },
      "outputs": [
        {
          "data": {
            "text/html": [
              "<div>\n",
              "<style scoped>\n",
              "    .dataframe tbody tr th:only-of-type {\n",
              "        vertical-align: middle;\n",
              "    }\n",
              "\n",
              "    .dataframe tbody tr th {\n",
              "        vertical-align: top;\n",
              "    }\n",
              "\n",
              "    .dataframe thead th {\n",
              "        text-align: right;\n",
              "    }\n",
              "</style>\n",
              "<table border=\"1\" class=\"dataframe\">\n",
              "  <thead>\n",
              "    <tr style=\"text-align: right;\">\n",
              "      <th></th>\n",
              "      <th>text</th>\n",
              "    </tr>\n",
              "  </thead>\n",
              "  <tbody>\n",
              "    <tr>\n",
              "      <th>0</th>\n",
              "      <td>WASHINGTON (Reuters) - The head of a conservat...</td>\n",
              "    </tr>\n",
              "    <tr>\n",
              "      <th>1</th>\n",
              "      <td>WASHINGTON (Reuters) - Transgender people will...</td>\n",
              "    </tr>\n",
              "    <tr>\n",
              "      <th>2</th>\n",
              "      <td>WASHINGTON (Reuters) - The special counsel inv...</td>\n",
              "    </tr>\n",
              "    <tr>\n",
              "      <th>3</th>\n",
              "      <td>WASHINGTON (Reuters) - Trump campaign adviser ...</td>\n",
              "    </tr>\n",
              "    <tr>\n",
              "      <th>4</th>\n",
              "      <td>SEATTLE/WASHINGTON (Reuters) - President Donal...</td>\n",
              "    </tr>\n",
              "  </tbody>\n",
              "</table>\n",
              "</div>"
            ],
            "text/plain": [
              "                                                text\n",
              "0  WASHINGTON (Reuters) - The head of a conservat...\n",
              "1  WASHINGTON (Reuters) - Transgender people will...\n",
              "2  WASHINGTON (Reuters) - The special counsel inv...\n",
              "3  WASHINGTON (Reuters) - Trump campaign adviser ...\n",
              "4  SEATTLE/WASHINGTON (Reuters) - President Donal..."
            ]
          },
          "execution_count": 12,
          "metadata": {
            "tags": []
          },
          "output_type": "execute_result"
        }
      ],
      "source": [
        "# Dropping title, subject and data columns since we cant use these in AI-text\n",
        "real_df.drop(labels=['title', 'subject', 'date'], axis=1, inplace=True)\n",
        "fake_df.drop(labels=['title', 'subject', 'date'], axis=1, inplace=True)\n",
        "\n",
        "real_df.head()"
      ]
    },
    {
      "cell_type": "code",
      "execution_count": null,
      "metadata": {
        "colab": {
          "base_uri": "https://localhost:8080/",
          "height": 419
        },
        "id": "hI-HLO27237j",
        "outputId": "80087234-51a4-4a71-c91a-7cef170e6f4b"
      },
      "outputs": [
        {
          "data": {
            "text/html": [
              "<div>\n",
              "<style scoped>\n",
              "    .dataframe tbody tr th:only-of-type {\n",
              "        vertical-align: middle;\n",
              "    }\n",
              "\n",
              "    .dataframe tbody tr th {\n",
              "        vertical-align: top;\n",
              "    }\n",
              "\n",
              "    .dataframe thead th {\n",
              "        text-align: right;\n",
              "    }\n",
              "</style>\n",
              "<table border=\"1\" class=\"dataframe\">\n",
              "  <thead>\n",
              "    <tr style=\"text-align: right;\">\n",
              "      <th></th>\n",
              "      <th>text</th>\n",
              "    </tr>\n",
              "  </thead>\n",
              "  <tbody>\n",
              "    <tr>\n",
              "      <th>0</th>\n",
              "      <td>WASHINGTON (Reuters) - The head of a conservat...</td>\n",
              "    </tr>\n",
              "    <tr>\n",
              "      <th>1</th>\n",
              "      <td>WASHINGTON (Reuters) - Transgender people will...</td>\n",
              "    </tr>\n",
              "    <tr>\n",
              "      <th>2</th>\n",
              "      <td>WASHINGTON (Reuters) - The special counsel inv...</td>\n",
              "    </tr>\n",
              "    <tr>\n",
              "      <th>3</th>\n",
              "      <td>WASHINGTON (Reuters) - Trump campaign adviser ...</td>\n",
              "    </tr>\n",
              "    <tr>\n",
              "      <th>4</th>\n",
              "      <td>SEATTLE/WASHINGTON (Reuters) - President Donal...</td>\n",
              "    </tr>\n",
              "    <tr>\n",
              "      <th>...</th>\n",
              "      <td>...</td>\n",
              "    </tr>\n",
              "    <tr>\n",
              "      <th>21412</th>\n",
              "      <td>BRUSSELS (Reuters) - NATO allies on Tuesday we...</td>\n",
              "    </tr>\n",
              "    <tr>\n",
              "      <th>21413</th>\n",
              "      <td>LONDON (Reuters) - LexisNexis, a provider of l...</td>\n",
              "    </tr>\n",
              "    <tr>\n",
              "      <th>21414</th>\n",
              "      <td>MINSK (Reuters) - In the shadow of disused Sov...</td>\n",
              "    </tr>\n",
              "    <tr>\n",
              "      <th>21415</th>\n",
              "      <td>MOSCOW (Reuters) - Vatican Secretary of State ...</td>\n",
              "    </tr>\n",
              "    <tr>\n",
              "      <th>21416</th>\n",
              "      <td>JAKARTA (Reuters) - Indonesia will buy 11 Sukh...</td>\n",
              "    </tr>\n",
              "  </tbody>\n",
              "</table>\n",
              "<p>21378 rows × 1 columns</p>\n",
              "</div>"
            ],
            "text/plain": [
              "                                                    text\n",
              "0      WASHINGTON (Reuters) - The head of a conservat...\n",
              "1      WASHINGTON (Reuters) - Transgender people will...\n",
              "2      WASHINGTON (Reuters) - The special counsel inv...\n",
              "3      WASHINGTON (Reuters) - Trump campaign adviser ...\n",
              "4      SEATTLE/WASHINGTON (Reuters) - President Donal...\n",
              "...                                                  ...\n",
              "21412  BRUSSELS (Reuters) - NATO allies on Tuesday we...\n",
              "21413  LONDON (Reuters) - LexisNexis, a provider of l...\n",
              "21414  MINSK (Reuters) - In the shadow of disused Sov...\n",
              "21415  MOSCOW (Reuters) - Vatican Secretary of State ...\n",
              "21416  JAKARTA (Reuters) - Indonesia will buy 11 Sukh...\n",
              "\n",
              "[21378 rows x 1 columns]"
            ]
          },
          "execution_count": 13,
          "metadata": {
            "tags": []
          },
          "output_type": "execute_result"
        }
      ],
      "source": [
        "# Real articles that contain \"Reuters\" in them\n",
        "real_df[real_df['text'].str.contains(\"Reuters\")]"
      ]
    },
    {
      "cell_type": "code",
      "execution_count": null,
      "metadata": {
        "colab": {
          "base_uri": "https://localhost:8080/",
          "height": 419
        },
        "id": "Tw6Yw9wX4Q5s",
        "outputId": "b11b156d-a55b-41d5-8921-d53d95d76555"
      },
      "outputs": [
        {
          "data": {
            "text/html": [
              "<div>\n",
              "<style scoped>\n",
              "    .dataframe tbody tr th:only-of-type {\n",
              "        vertical-align: middle;\n",
              "    }\n",
              "\n",
              "    .dataframe tbody tr th {\n",
              "        vertical-align: top;\n",
              "    }\n",
              "\n",
              "    .dataframe thead th {\n",
              "        text-align: right;\n",
              "    }\n",
              "</style>\n",
              "<table border=\"1\" class=\"dataframe\">\n",
              "  <thead>\n",
              "    <tr style=\"text-align: right;\">\n",
              "      <th></th>\n",
              "      <th>text</th>\n",
              "    </tr>\n",
              "  </thead>\n",
              "  <tbody>\n",
              "    <tr>\n",
              "      <th>115</th>\n",
              "      <td>Republicans should be downright afraid to try ...</td>\n",
              "    </tr>\n",
              "    <tr>\n",
              "      <th>265</th>\n",
              "      <td>Before departing for Puerto Rico, Donald Trump...</td>\n",
              "    </tr>\n",
              "    <tr>\n",
              "      <th>348</th>\n",
              "      <td>By now you would be more than aware of Preside...</td>\n",
              "    </tr>\n",
              "    <tr>\n",
              "      <th>350</th>\n",
              "      <td>Donald Trump has been fundraising like crazy f...</td>\n",
              "    </tr>\n",
              "    <tr>\n",
              "      <th>417</th>\n",
              "      <td>After Hurricane Harvey devastated Houston, Tex...</td>\n",
              "    </tr>\n",
              "    <tr>\n",
              "      <th>...</th>\n",
              "      <td>...</td>\n",
              "    </tr>\n",
              "    <tr>\n",
              "      <th>23275</th>\n",
              "      <td>Shawn Helton 21st Century WireAnother active-s...</td>\n",
              "    </tr>\n",
              "    <tr>\n",
              "      <th>23308</th>\n",
              "      <td>Daily Shooter 21st Century WireLast night, a h...</td>\n",
              "    </tr>\n",
              "    <tr>\n",
              "      <th>23344</th>\n",
              "      <td>21st Century Wire says The military industrial...</td>\n",
              "    </tr>\n",
              "    <tr>\n",
              "      <th>23359</th>\n",
              "      <td>21st Century Wire says A greater percentage of...</td>\n",
              "    </tr>\n",
              "    <tr>\n",
              "      <th>23443</th>\n",
              "      <td>Shawn Helton 21st Century WireEarlier this wee...</td>\n",
              "    </tr>\n",
              "  </tbody>\n",
              "</table>\n",
              "<p>311 rows × 1 columns</p>\n",
              "</div>"
            ],
            "text/plain": [
              "                                                    text\n",
              "115    Republicans should be downright afraid to try ...\n",
              "265    Before departing for Puerto Rico, Donald Trump...\n",
              "348    By now you would be more than aware of Preside...\n",
              "350    Donald Trump has been fundraising like crazy f...\n",
              "417    After Hurricane Harvey devastated Houston, Tex...\n",
              "...                                                  ...\n",
              "23275  Shawn Helton 21st Century WireAnother active-s...\n",
              "23308  Daily Shooter 21st Century WireLast night, a h...\n",
              "23344  21st Century Wire says The military industrial...\n",
              "23359  21st Century Wire says A greater percentage of...\n",
              "23443  Shawn Helton 21st Century WireEarlier this wee...\n",
              "\n",
              "[311 rows x 1 columns]"
            ]
          },
          "execution_count": 14,
          "metadata": {
            "tags": []
          },
          "output_type": "execute_result"
        }
      ],
      "source": [
        "# Fake articles that contain \"Reuters\" in them\n",
        "fake_df[fake_df['text'].str.contains(\"Reuters\")]"
      ]
    },
    {
      "cell_type": "code",
      "execution_count": null,
      "metadata": {
        "colab": {
          "base_uri": "https://localhost:8080/"
        },
        "id": "Ogw37upb7UCE",
        "outputId": "16e3b085-a8b2-417e-8984-38d554474ae6"
      },
      "outputs": [
        {
          "name": "stdout",
          "output_type": "stream",
          "text": [
            "Empty DataFrame\n",
            "Columns: [text]\n",
            "Index: []\n"
          ]
        }
      ],
      "source": [
        "# Remove 'Reuters) - ' and anything that comes before it\n",
        "real_df['text'] = real_df['text'].apply(lambda x: x.split('Reuters) - ')[-1])\n",
        "\n",
        "# Remove 'Reuters' even if it doesnt follow format above\n",
        "real_df['text'] = real_df['text'].apply(lambda x: x.replace('Reuters', ''))\n",
        "\n",
        "\n",
        "# Print remaining rows containing Reuters - expecting empty DataFrame\n",
        "print(real_df[real_df['text'].str.contains(\"Reuters\")])"
      ]
    },
    {
      "cell_type": "code",
      "execution_count": null,
      "metadata": {
        "colab": {
          "base_uri": "https://localhost:8080/"
        },
        "id": "cayYkuLfcl2y",
        "outputId": "c75cdc2e-f05d-46aa-d50d-66ece948be5e"
      },
      "outputs": [
        {
          "name": "stdout",
          "output_type": "stream",
          "text": [
            "Empty DataFrame\n",
            "Columns: [text]\n",
            "Index: []\n"
          ]
        }
      ],
      "source": [
        "# Repeat for Fake df\n",
        "fake_df['text'] = fake_df['text'].apply(lambda x: x.split('Reuters) - ')[-1])\n",
        "fake_df['text'] = fake_df['text'].apply(lambda x: x.replace('Reuters', ''))\n",
        "\n",
        "# Print remaining rows containing Reuters - expecting empty DataFrame\n",
        "print(fake_df[fake_df['text'].str.contains(\"Reuters\")])"
      ]
    },
    {
      "cell_type": "code",
      "execution_count": null,
      "metadata": {
        "colab": {
          "base_uri": "https://localhost:8080/",
          "height": 157
        },
        "id": "pS1KzNRNIdXr",
        "outputId": "72a1f38d-4f89-4a2c-c72a-da8a17d9cd61"
      },
      "outputs": [
        {
          "data": {
            "application/vnd.google.colaboratory.intrinsic+json": {
              "type": "string"
            },
            "text/plain": [
              "'On Christmas day, Donald Trump announced that he would  be back to work  the following day, but he is golfing for the fourth day in a row. The former reality show star blasted former President Barack Obama for playing golf and now Trump is on track to outpace the number of golf games his predecessor played.Updated my tracker of Trump s appearances at Trump properties.71 rounds of golf including today s. At this pace, he ll pass Obama s first-term total by July 24 next year. https://t.co/Fg7VacxRtJ pic.twitter.com/5gEMcjQTbH  Philip Bump (@pbump) December 29, 2017 That makes what a Washington Post reporter discovered on Trump s website really weird, but everything about this administration is bizarre AF. The coding contained a reference to Obama and golf:  Unlike Obama, we are working to fix the problem   and not on the golf course.  However, the coding wasn t done correctly.The website of Donald Trump, who has spent several days in a row at the golf course, is coded to serve up the following message in the event of an internal server error: https://t.co/zrWpyMXRcz pic.twitter.com/wiQSQNNzw0  Christopher Ingraham (@_cingraham) December 28, 2017That snippet of code appears to be on all https://t.co/dkhw0AlHB4 pages, which the footer says is paid for by the RNC? pic.twitter.com/oaZDT126B3  Christopher Ingraham (@_cingraham) December 28, 2017It s also all over https://t.co/ayBlGmk65Z. As others have noted in this thread, this is weird code and it s not clear it would ever actually display, but who knows.  Christopher Ingraham (@_cingraham) December 28, 2017After the coding was called out, the reference to Obama was deleted.UPDATE: The golf error message has been removed from the Trump and GOP websites. They also fixed the javascript  =  vs  ==  problem. Still not clear when these messages would actually display, since the actual 404 (and presumably 500) page displays a different message pic.twitter.com/Z7dmyQ5smy  Christopher Ingraham (@_cingraham) December 29, 2017That suggests someone at either RNC or the Trump admin is sensitive enough to Trump s golf problem to make this issue go away quickly once people noticed. You have no idea how much I d love to see the email exchange that led us here.  Christopher Ingraham (@_cingraham) December 29, 2017 The code was f-cked up.The best part about this is that they are using the  =  (assignment) operator which means that bit of code will never get run. If you look a few lines up  errorCode  will always be  404          (@tw1trsux) December 28, 2017trump s coders can t code. Nobody is surprised.  Tim Peterson (@timrpeterson) December 28, 2017Donald Trump is obsessed with Obama that his name was even in the coding of his website while he played golf again.Photo by Joe Raedle/Getty Images.'"
            ]
          },
          "execution_count": 17,
          "metadata": {
            "tags": []
          },
          "output_type": "execute_result"
        }
      ],
      "source": [
        "# Examples of text we want to clean\n",
        "\n",
        "# Contains '\\n' \n",
        "ai_df.text.iloc[0]\n",
        "\n",
        "#Contains unicode space '\\xa0'\n",
        "real_df.text.iloc[13]\n",
        "\n",
        "# Contains https link\n",
        "fake_df.text.iloc[3]\n"
      ]
    },
    {
      "cell_type": "code",
      "execution_count": null,
      "metadata": {
        "id": "PpvpZL8WHNz9"
      },
      "outputs": [],
      "source": [
        "import re\n",
        "\n",
        "def clean_text(text):\n",
        "  \"\"\"Cleans newline characters, unix whitespace, \n",
        "  and http links from text\"\"\"\n",
        "\n",
        "  text = re.sub(r'\\n', ' ', text)\n",
        "  text = re.sub('\\xa0', ' ', text)\n",
        "  cleaned_text = re.sub('(http)(.+?)(?:\\s)', ' ', text)   # 'http' followed by text up until space char\n",
        "\n",
        "  return cleaned_text"
      ]
    },
    {
      "cell_type": "code",
      "execution_count": null,
      "metadata": {
        "colab": {
          "base_uri": "https://localhost:8080/",
          "height": 157
        },
        "id": "Wcq2tpjtogbG",
        "outputId": "515ad07d-c375-48e0-db81-42338cabc24b"
      },
      "outputs": [
        {
          "data": {
            "application/vnd.google.colaboratory.intrinsic+json": {
              "type": "string"
            },
            "text/plain": [
              "'Cops will have to take \"extreme care\" to avoid jail-breaking the latest iPhones as the US government will fine manufacturers for breaking its digital security.\\n\\nApple has been criticised for designing and releasing its latest smartphone without any security measures.\\n\\nApple has defended the iPhone 6 for carrying out some of its advanced security measures, but will be fined if it continues to fail that test.\\n\\nThe Federal Communications Commission and FBI will be allowed to fine companies as much as $25,000 (£17,800) for not patching bugs after they are announced.\\n\\nThe FCC, under a new ruling from president Obama , will allow fines of $1,500 per device over the same \"bug bounty\".\\n\\nThere have been multiple hacks into iPhone 6 smartphones this year in the wake of the 2013 revelation that the device could be unlocked with a passcode lock.\\n\\nHowever, security experts have criticised Apple\\'s software and device for not patching its bugs to prevent them becoming the latest weapon in the fight for online privacy.\\n\\nUS congressman Ted Lieu warned, \"We\\'re watching the FBI and the government take an old security issue — cracking open a closed device — and turn it into a brand new security issue with the advent of a new device.\"\\n\\nHis Democratic colleague Senator Mark Warner echoed a similar sentiment, saying: \"If the FBI is successful with this program, it could make it much more difficult for law-abiding Americans to protect their privacy.\"\\n\\nHowever, one leading security researcher said he believed the government was not seeking Apple\\'s help to fight off a criminal.\\n\\n\"They don\\'t see the need for Apple — they don\\'t see much of a market for new iPhones now,\" said Matthew Green.\\n\\nGreen believes the government wants new devices because it is concerned a new smartphone with facial recognition capabilities might become a tool for terrorists.\\n\\n\"These are not necessarily criminals — these are extremists,\" he said.\\n\\n\"If you have someone with a gun strapped to their body — if you want the FBI to stop that, then you want to lock that phone, and then lock it.\"'"
            ]
          },
          "execution_count": 19,
          "metadata": {
            "tags": []
          },
          "output_type": "execute_result"
        }
      ],
      "source": [
        "# Before cleaning\n",
        "# Contains '\\n' \n",
        "ai_df.text.iloc[0]\n",
        "\n",
        "# #Contains unicode space '\\xa0'\n",
        "# real_df.text.iloc[13]\n",
        "\n",
        "# # # Contains https link\n",
        "# fake_df.text.iloc[3]"
      ]
    },
    {
      "cell_type": "code",
      "execution_count": null,
      "metadata": {
        "colab": {
          "base_uri": "https://localhost:8080/",
          "height": 157
        },
        "id": "V5JFhme-oh_f",
        "outputId": "0c6b73c2-16c9-47ff-9519-5671f4481f16"
      },
      "outputs": [
        {
          "data": {
            "application/vnd.google.colaboratory.intrinsic+json": {
              "type": "string"
            },
            "text/plain": [
              "'Cops will have to take \"extreme care\" to avoid jail-breaking the latest iPhones as the US government will fine manufacturers for breaking its digital security.  Apple has been criticised for designing and releasing its latest smartphone without any security measures.  Apple has defended the iPhone 6 for carrying out some of its advanced security measures, but will be fined if it continues to fail that test.  The Federal Communications Commission and FBI will be allowed to fine companies as much as $25,000 (£17,800) for not patching bugs after they are announced.  The FCC, under a new ruling from president Obama , will allow fines of $1,500 per device over the same \"bug bounty\".  There have been multiple hacks into iPhone 6 smartphones this year in the wake of the 2013 revelation that the device could be unlocked with a passcode lock.  However, security experts have criticised Apple\\'s software and device for not patching its bugs to prevent them becoming the latest weapon in the fight for online privacy.  US congressman Ted Lieu warned, \"We\\'re watching the FBI and the government take an old security issue — cracking open a closed device — and turn it into a brand new security issue with the advent of a new device.\"  His Democratic colleague Senator Mark Warner echoed a similar sentiment, saying: \"If the FBI is successful with this program, it could make it much more difficult for law-abiding Americans to protect their privacy.\"  However, one leading security researcher said he believed the government was not seeking Apple\\'s help to fight off a criminal.  \"They don\\'t see the need for Apple — they don\\'t see much of a market for new iPhones now,\" said Matthew Green.  Green believes the government wants new devices because it is concerned a new smartphone with facial recognition capabilities might become a tool for terrorists.  \"These are not necessarily criminals — these are extremists,\" he said.  \"If you have someone with a gun strapped to their body — if you want the FBI to stop that, then you want to lock that phone, and then lock it.\"'"
            ]
          },
          "execution_count": 20,
          "metadata": {
            "tags": []
          },
          "output_type": "execute_result"
        }
      ],
      "source": [
        "#After cleaning\n",
        "clean_text(ai_df.text.iloc[0])"
      ]
    },
    {
      "cell_type": "code",
      "execution_count": null,
      "metadata": {
        "id": "dCGc-HRDua1l"
      },
      "outputs": [],
      "source": [
        "# Clean the text on all dfs\n",
        "\n",
        "df_list = [real_df, fake_df, ai_df]\n",
        "\n",
        "for df in df_list:\n",
        "  df['text'] = df['text'].apply(lambda x: clean_text(x))"
      ]
    },
    {
      "cell_type": "code",
      "execution_count": null,
      "metadata": {
        "id": "MSC3xed3CtZz"
      },
      "outputs": [],
      "source": [
        "real_df[\"group\"] = \"real\"\n",
        "fake_df[\"group\"] = \"fake_hum\"\n",
        "ai_df[\"group\"] = \"fake_ai\""
      ]
    },
    {
      "cell_type": "code",
      "execution_count": null,
      "metadata": {
        "colab": {
          "base_uri": "https://localhost:8080/",
          "height": 419
        },
        "id": "V90j8NprEXzy",
        "outputId": "c63c4d9c-fa7e-496a-a7bc-a93eb0441148"
      },
      "outputs": [
        {
          "data": {
            "text/html": [
              "<div>\n",
              "<style scoped>\n",
              "    .dataframe tbody tr th:only-of-type {\n",
              "        vertical-align: middle;\n",
              "    }\n",
              "\n",
              "    .dataframe tbody tr th {\n",
              "        vertical-align: top;\n",
              "    }\n",
              "\n",
              "    .dataframe thead th {\n",
              "        text-align: right;\n",
              "    }\n",
              "</style>\n",
              "<table border=\"1\" class=\"dataframe\">\n",
              "  <thead>\n",
              "    <tr style=\"text-align: right;\">\n",
              "      <th></th>\n",
              "      <th>text</th>\n",
              "      <th>group</th>\n",
              "    </tr>\n",
              "  </thead>\n",
              "  <tbody>\n",
              "    <tr>\n",
              "      <th>0</th>\n",
              "      <td>The head of a conservative Republican faction ...</td>\n",
              "      <td>real</td>\n",
              "    </tr>\n",
              "    <tr>\n",
              "      <th>1</th>\n",
              "      <td>Transgender people will be allowed for the fir...</td>\n",
              "      <td>real</td>\n",
              "    </tr>\n",
              "    <tr>\n",
              "      <th>2</th>\n",
              "      <td>The special counsel investigation of links bet...</td>\n",
              "      <td>real</td>\n",
              "    </tr>\n",
              "    <tr>\n",
              "      <th>3</th>\n",
              "      <td>Trump campaign adviser George Papadopoulos tol...</td>\n",
              "      <td>real</td>\n",
              "    </tr>\n",
              "    <tr>\n",
              "      <th>4</th>\n",
              "      <td>President Donald Trump called on the U.S. Post...</td>\n",
              "      <td>real</td>\n",
              "    </tr>\n",
              "    <tr>\n",
              "      <th>...</th>\n",
              "      <td>...</td>\n",
              "      <td>...</td>\n",
              "    </tr>\n",
              "    <tr>\n",
              "      <th>220628</th>\n",
              "      <td>\"You are like a child and you do not know what...</td>\n",
              "      <td>fake_ai</td>\n",
              "    </tr>\n",
              "    <tr>\n",
              "      <th>220629</th>\n",
              "      <td>There are a lot of things that I don't like ab...</td>\n",
              "      <td>fake_ai</td>\n",
              "    </tr>\n",
              "    <tr>\n",
              "      <th>220630</th>\n",
              "      <td>Battles Between the English and the Scots  The...</td>\n",
              "      <td>fake_ai</td>\n",
              "    </tr>\n",
              "    <tr>\n",
              "      <th>220631</th>\n",
              "      <td>Kurt Rambis is the new head coach of the Knick...</td>\n",
              "      <td>fake_ai</td>\n",
              "    </tr>\n",
              "    <tr>\n",
              "      <th>220632</th>\n",
              "      <td>\"To be a leader... you need to do this or that...</td>\n",
              "      <td>fake_ai</td>\n",
              "    </tr>\n",
              "  </tbody>\n",
              "</table>\n",
              "<p>220633 rows × 2 columns</p>\n",
              "</div>"
            ],
            "text/plain": [
              "                                                     text    group\n",
              "0       The head of a conservative Republican faction ...     real\n",
              "1       Transgender people will be allowed for the fir...     real\n",
              "2       The special counsel investigation of links bet...     real\n",
              "3       Trump campaign adviser George Papadopoulos tol...     real\n",
              "4       President Donald Trump called on the U.S. Post...     real\n",
              "...                                                   ...      ...\n",
              "220628  \"You are like a child and you do not know what...  fake_ai\n",
              "220629  There are a lot of things that I don't like ab...  fake_ai\n",
              "220630  Battles Between the English and the Scots  The...  fake_ai\n",
              "220631  Kurt Rambis is the new head coach of the Knick...  fake_ai\n",
              "220632  \"To be a leader... you need to do this or that...  fake_ai\n",
              "\n",
              "[220633 rows x 2 columns]"
            ]
          },
          "execution_count": 23,
          "metadata": {
            "tags": []
          },
          "output_type": "execute_result"
        }
      ],
      "source": [
        "# Combining dfs\n",
        "articles_df = real_df.append([fake_df, ai_df], verify_integrity=True, ignore_index=True)\n",
        "\n",
        "articles_df"
      ]
    },
    {
      "cell_type": "code",
      "execution_count": null,
      "metadata": {
        "colab": {
          "base_uri": "https://localhost:8080/"
        },
        "id": "NSVFujgYLP9q",
        "outputId": "114213f1-b2e6-404d-b1f1-d0b6be7c8f0a"
      },
      "outputs": [
        {
          "data": {
            "text/plain": [
              "16306"
            ]
          },
          "execution_count": 60,
          "metadata": {
            "tags": []
          },
          "output_type": "execute_result"
        }
      ],
      "source": [
        "# Are there duplicates?\n",
        "\n",
        "articles_df[articles_df[\"group\"] == 'fake_hum'] # of fake_hum articles: 21226 \n",
        "len(articles_df[articles_df[\"group\"] == 'fake_hum'].text.unique()) # 16385 unique fake_hum articles\n",
        "\n",
        "\n",
        "articles_df[articles_df[\"group\"] == 'real'] # of real articles: 20253 \n",
        "len(articles_df[articles_df[\"group\"] == 'real'].text.unique()) # 20043 unique real articles\n",
        "\n",
        "\n",
        "articles_df[articles_df[\"group\"] == 'fake_ai'] # of ai articles: 165190 \n",
        "len(articles_df[articles_df[\"group\"] == 'fake_ai'].text.unique()) # 165121 unique ai articles\n",
        "\n",
        "# Yes, all 3 groups have some duplicates, particularly the fake_hum group with 4841 duplicate articles.\n",
        "# fake_ai and real each have < 250 duplicates\n",
        "# 5,120 duplicate articles total"
      ]
    },
    {
      "cell_type": "code",
      "execution_count": null,
      "metadata": {
        "colab": {
          "base_uri": "https://localhost:8080/",
          "height": 419
        },
        "id": "-VU7gLi3QfCb",
        "outputId": "45ff3fd1-2c49-4b3a-f8c8-9603a6ac606f"
      },
      "outputs": [
        {
          "data": {
            "text/html": [
              "<div>\n",
              "<style scoped>\n",
              "    .dataframe tbody tr th:only-of-type {\n",
              "        vertical-align: middle;\n",
              "    }\n",
              "\n",
              "    .dataframe tbody tr th {\n",
              "        vertical-align: top;\n",
              "    }\n",
              "\n",
              "    .dataframe thead th {\n",
              "        text-align: right;\n",
              "    }\n",
              "</style>\n",
              "<table border=\"1\" class=\"dataframe\">\n",
              "  <thead>\n",
              "    <tr style=\"text-align: right;\">\n",
              "      <th></th>\n",
              "      <th>text</th>\n",
              "      <th>group</th>\n",
              "    </tr>\n",
              "  </thead>\n",
              "  <tbody>\n",
              "    <tr>\n",
              "      <th>0</th>\n",
              "      <td>The head of a conservative Republican faction ...</td>\n",
              "      <td>real</td>\n",
              "    </tr>\n",
              "    <tr>\n",
              "      <th>1</th>\n",
              "      <td>Transgender people will be allowed for the fir...</td>\n",
              "      <td>real</td>\n",
              "    </tr>\n",
              "    <tr>\n",
              "      <th>2</th>\n",
              "      <td>The special counsel investigation of links bet...</td>\n",
              "      <td>real</td>\n",
              "    </tr>\n",
              "    <tr>\n",
              "      <th>3</th>\n",
              "      <td>Trump campaign adviser George Papadopoulos tol...</td>\n",
              "      <td>real</td>\n",
              "    </tr>\n",
              "    <tr>\n",
              "      <th>4</th>\n",
              "      <td>President Donald Trump called on the U.S. Post...</td>\n",
              "      <td>real</td>\n",
              "    </tr>\n",
              "    <tr>\n",
              "      <th>...</th>\n",
              "      <td>...</td>\n",
              "      <td>...</td>\n",
              "    </tr>\n",
              "    <tr>\n",
              "      <th>214253</th>\n",
              "      <td>\"You are like a child and you do not know what...</td>\n",
              "      <td>fake_ai</td>\n",
              "    </tr>\n",
              "    <tr>\n",
              "      <th>214254</th>\n",
              "      <td>There are a lot of things that I don't like ab...</td>\n",
              "      <td>fake_ai</td>\n",
              "    </tr>\n",
              "    <tr>\n",
              "      <th>214255</th>\n",
              "      <td>Battles Between the English and the Scots  The...</td>\n",
              "      <td>fake_ai</td>\n",
              "    </tr>\n",
              "    <tr>\n",
              "      <th>214256</th>\n",
              "      <td>Kurt Rambis is the new head coach of the Knick...</td>\n",
              "      <td>fake_ai</td>\n",
              "    </tr>\n",
              "    <tr>\n",
              "      <th>214257</th>\n",
              "      <td>\"To be a leader... you need to do this or that...</td>\n",
              "      <td>fake_ai</td>\n",
              "    </tr>\n",
              "  </tbody>\n",
              "</table>\n",
              "<p>214258 rows × 2 columns</p>\n",
              "</div>"
            ],
            "text/plain": [
              "                                                     text    group\n",
              "0       The head of a conservative Republican faction ...     real\n",
              "1       Transgender people will be allowed for the fir...     real\n",
              "2       The special counsel investigation of links bet...     real\n",
              "3       Trump campaign adviser George Papadopoulos tol...     real\n",
              "4       President Donald Trump called on the U.S. Post...     real\n",
              "...                                                   ...      ...\n",
              "214253  \"You are like a child and you do not know what...  fake_ai\n",
              "214254  There are a lot of things that I don't like ab...  fake_ai\n",
              "214255  Battles Between the English and the Scots  The...  fake_ai\n",
              "214256  Kurt Rambis is the new head coach of the Knick...  fake_ai\n",
              "214257  \"To be a leader... you need to do this or that...  fake_ai\n",
              "\n",
              "[214258 rows x 2 columns]"
            ]
          },
          "execution_count": 25,
          "metadata": {
            "tags": []
          },
          "output_type": "execute_result"
        }
      ],
      "source": [
        "# Dropping rows with duplicate articles\n",
        "articles_df.drop_duplicates(subset=['text'], inplace=True, ignore_index=True)\n",
        "\n",
        "articles_df\n"
      ]
    },
    {
      "cell_type": "code",
      "execution_count": null,
      "metadata": {
        "colab": {
          "base_uri": "https://localhost:8080/"
        },
        "id": "dqP3XrzJ3A7E",
        "outputId": "c5c64d84-db59-40f6-90ab-d1b276a9a8bf"
      },
      "outputs": [
        {
          "data": {
            "text/plain": [
              "5711"
            ]
          },
          "execution_count": 31,
          "metadata": {
            "tags": []
          },
          "output_type": "execute_result"
        }
      ],
      "source": [
        "# Longest fake_ai article\n",
        "articles_df[articles_df.group == 'fake_ai'].length.max()"
      ]
    },
    {
      "cell_type": "code",
      "execution_count": null,
      "metadata": {
        "colab": {
          "base_uri": "https://localhost:8080/",
          "height": 419
        },
        "id": "BOjhKv_8SPX_",
        "outputId": "46404ef0-6c9d-45e8-da57-54d6061fdebb"
      },
      "outputs": [
        {
          "data": {
            "text/html": [
              "<div>\n",
              "<style scoped>\n",
              "    .dataframe tbody tr th:only-of-type {\n",
              "        vertical-align: middle;\n",
              "    }\n",
              "\n",
              "    .dataframe tbody tr th {\n",
              "        vertical-align: top;\n",
              "    }\n",
              "\n",
              "    .dataframe thead th {\n",
              "        text-align: right;\n",
              "    }\n",
              "</style>\n",
              "<table border=\"1\" class=\"dataframe\">\n",
              "  <thead>\n",
              "    <tr style=\"text-align: right;\">\n",
              "      <th></th>\n",
              "      <th>text</th>\n",
              "      <th>group</th>\n",
              "      <th>length</th>\n",
              "    </tr>\n",
              "  </thead>\n",
              "  <tbody>\n",
              "    <tr>\n",
              "      <th>20</th>\n",
              "      <td>The U.S. Justice Department has issued new gui...</td>\n",
              "      <td>real</td>\n",
              "      <td>5746</td>\n",
              "    </tr>\n",
              "    <tr>\n",
              "      <th>32</th>\n",
              "      <td>In the Fox &amp; Hound sports bar, next to a shopp...</td>\n",
              "      <td>real</td>\n",
              "      <td>6679</td>\n",
              "    </tr>\n",
              "    <tr>\n",
              "      <th>48</th>\n",
              "      <td>The Republican-controlled U.S. House of Repres...</td>\n",
              "      <td>real</td>\n",
              "      <td>5811</td>\n",
              "    </tr>\n",
              "    <tr>\n",
              "      <th>63</th>\n",
              "      <td>The two Democratic candidates running for gove...</td>\n",
              "      <td>real</td>\n",
              "      <td>8133</td>\n",
              "    </tr>\n",
              "    <tr>\n",
              "      <th>68</th>\n",
              "      <td>The U.S. House of Representatives gave final a...</td>\n",
              "      <td>real</td>\n",
              "      <td>7006</td>\n",
              "    </tr>\n",
              "    <tr>\n",
              "      <th>...</th>\n",
              "      <td>...</td>\n",
              "      <td>...</td>\n",
              "      <td>...</td>\n",
              "    </tr>\n",
              "    <tr>\n",
              "      <th>36420</th>\n",
              "      <td>Patrick Henningsen  21st Century WireRemember ...</td>\n",
              "      <td>fake_hum</td>\n",
              "      <td>25065</td>\n",
              "    </tr>\n",
              "    <tr>\n",
              "      <th>36423</th>\n",
              "      <td>21st Century Wire says All the world s a stage...</td>\n",
              "      <td>fake_hum</td>\n",
              "      <td>7359</td>\n",
              "    </tr>\n",
              "    <tr>\n",
              "      <th>36424</th>\n",
              "      <td>Randy Johnson 21st Century WireThe majority ...</td>\n",
              "      <td>fake_hum</td>\n",
              "      <td>26275</td>\n",
              "    </tr>\n",
              "    <tr>\n",
              "      <th>36426</th>\n",
              "      <td>21st Century Wire says A new front has just op...</td>\n",
              "      <td>fake_hum</td>\n",
              "      <td>20651</td>\n",
              "    </tr>\n",
              "    <tr>\n",
              "      <th>36427</th>\n",
              "      <td>21st Century Wire says It s not that far away....</td>\n",
              "      <td>fake_hum</td>\n",
              "      <td>5749</td>\n",
              "    </tr>\n",
              "  </tbody>\n",
              "</table>\n",
              "<p>1488 rows × 3 columns</p>\n",
              "</div>"
            ],
            "text/plain": [
              "                                                    text     group  length\n",
              "20     The U.S. Justice Department has issued new gui...      real    5746\n",
              "32     In the Fox & Hound sports bar, next to a shopp...      real    6679\n",
              "48     The Republican-controlled U.S. House of Repres...      real    5811\n",
              "63     The two Democratic candidates running for gove...      real    8133\n",
              "68     The U.S. House of Representatives gave final a...      real    7006\n",
              "...                                                  ...       ...     ...\n",
              "36420  Patrick Henningsen  21st Century WireRemember ...  fake_hum   25065\n",
              "36423  21st Century Wire says All the world s a stage...  fake_hum    7359\n",
              "36424    Randy Johnson 21st Century WireThe majority ...  fake_hum   26275\n",
              "36426  21st Century Wire says A new front has just op...  fake_hum   20651\n",
              "36427  21st Century Wire says It s not that far away....  fake_hum    5749\n",
              "\n",
              "[1488 rows x 3 columns]"
            ]
          },
          "execution_count": 32,
          "metadata": {
            "tags": []
          },
          "output_type": "execute_result"
        }
      ],
      "source": [
        "# All articles that are too long\n",
        "articles_df[articles_df.length > 5711]"
      ]
    },
    {
      "cell_type": "code",
      "execution_count": null,
      "metadata": {
        "colab": {
          "base_uri": "https://localhost:8080/"
        },
        "id": "RYV6lXlIRSfq",
        "outputId": "673df849-afe2-467b-b0b0-aa69cd9518f0"
      },
      "outputs": [
        {
          "name": "stdout",
          "output_type": "stream",
          "text": [
            "[nltk_data] Downloading package punkt to /root/nltk_data...\n",
            "[nltk_data]   Package punkt is already up-to-date!\n"
          ]
        },
        {
          "data": {
            "text/plain": [
              "True"
            ]
          },
          "execution_count": 33,
          "metadata": {
            "tags": []
          },
          "output_type": "execute_result"
        }
      ],
      "source": [
        "# importing word_tokenize to use in function below\n",
        "import nltk\n",
        "from nltk.tokenize import word_tokenize\n",
        "\n",
        "nltk.download('punkt')"
      ]
    },
    {
      "cell_type": "code",
      "execution_count": null,
      "metadata": {
        "id": "UyGN4Ml4t-_A"
      },
      "outputs": [],
      "source": [
        "def article_crop(article, char_limit):\n",
        "  \"\"\"Given a DataFrame row that contains a 'text' column and a character limit, this crops\n",
        "      the text to end at the sentence after the character limit is reached\n",
        "\n",
        "  Params\n",
        "  - row: a row of a Dataframe that contains 'text' column\n",
        "  - char_limit: int, once text reaches this limit, the current sentence will become the final sentence in the text\n",
        "  \"\"\"\n",
        "\n",
        "\n",
        "  # If text is longer than char limit\n",
        "  if len(article) > char_limit:\n",
        "\n",
        "    # Split text into two groups, before and after the character limit\n",
        "    before_limit = article[: char_limit]\n",
        "    after_limit = article[char_limit : ]\n",
        "\n",
        "    # If after_limit contains more than just whitespace (check is needed b/c calling sent_tokenize()[0] on whitespace will fail)\n",
        "    if len(nltk.sent_tokenize(after_limit)) > 0:\n",
        "\n",
        "      sent_after_limit = nltk.sent_tokenize(after_limit)[0] # Take 1st sentence after char_limit\n",
        "      \n",
        "      new_text = before_limit + sent_after_limit\n",
        "      return new_text\n",
        "\n",
        "    # In this case, chars after char_limit only contain whitespace\n",
        "    else:\n",
        "      return before_limit\n",
        "\n",
        "  else:\n",
        "    return article"
      ]
    },
    {
      "cell_type": "code",
      "execution_count": null,
      "metadata": {
        "colab": {
          "base_uri": "https://localhost:8080/",
          "height": 71
        },
        "id": "nQjvqfj4jA8a",
        "outputId": "61b9719e-b9d7-4ea6-a28b-acf84f103c52"
      },
      "outputs": [
        {
          "data": {
            "application/vnd.google.colaboratory.intrinsic+json": {
              "type": "string"
            },
            "text/plain": [
              "' Dan Cantor, national chairman of the Working Families Party.      MoveOn, whose recent endorsement of Abrams marked its first in a 2018 governor’s race, said it would mobilize its 125,000 Georgia members as volunteers for her campaign.      Democracy for America is similarly engaging nearly 35,000 members in '"
            ]
          },
          "execution_count": 35,
          "metadata": {
            "tags": []
          },
          "output_type": "execute_result"
        }
      ],
      "source": [
        "# Shows where data will be cut off at the limit\n",
        "articles_df.text.iloc[63][5400:5711] "
      ]
    },
    {
      "cell_type": "code",
      "execution_count": null,
      "metadata": {
        "colab": {
          "base_uri": "https://localhost:8080/",
          "height": 71
        },
        "id": "SzPW4U7yjdQf",
        "outputId": "c816cc99-1e28-4e37-9ae2-6eef8c2d3201"
      },
      "outputs": [
        {
          "data": {
            "application/vnd.google.colaboratory.intrinsic+json": {
              "type": "string"
            },
            "text/plain": [
              "' Dan Cantor, national chairman of the Working Families Party.      MoveOn, whose recent endorsement of Abrams marked its first in a 2018 governor’s race, said it would mobilize its 125,000 Georgia members as volunteers for her campaign.      Democracy for America is similarly engaging nearly 35,000 members in the state.'"
            ]
          },
          "execution_count": 36,
          "metadata": {
            "tags": []
          },
          "output_type": "execute_result"
        }
      ],
      "source": [
        "# Shows the final sentence being completed using article_crop()\n",
        "article_crop(articles_df.text.iloc[63], 5711)[5400:] "
      ]
    },
    {
      "cell_type": "code",
      "execution_count": null,
      "metadata": {
        "colab": {
          "base_uri": "https://localhost:8080/",
          "height": 419
        },
        "id": "bczp70zdnZq2",
        "outputId": "dc9b0e06-7e52-404d-c8d6-0ab7ba98b0cb"
      },
      "outputs": [
        {
          "data": {
            "text/html": [
              "<div>\n",
              "<style scoped>\n",
              "    .dataframe tbody tr th:only-of-type {\n",
              "        vertical-align: middle;\n",
              "    }\n",
              "\n",
              "    .dataframe tbody tr th {\n",
              "        vertical-align: top;\n",
              "    }\n",
              "\n",
              "    .dataframe thead th {\n",
              "        text-align: right;\n",
              "    }\n",
              "</style>\n",
              "<table border=\"1\" class=\"dataframe\">\n",
              "  <thead>\n",
              "    <tr style=\"text-align: right;\">\n",
              "      <th></th>\n",
              "      <th>text</th>\n",
              "      <th>group</th>\n",
              "      <th>length</th>\n",
              "    </tr>\n",
              "  </thead>\n",
              "  <tbody>\n",
              "    <tr>\n",
              "      <th>0</th>\n",
              "      <td>The head of a conservative Republican faction ...</td>\n",
              "      <td>real</td>\n",
              "      <td>4636</td>\n",
              "    </tr>\n",
              "    <tr>\n",
              "      <th>1</th>\n",
              "      <td>Transgender people will be allowed for the fir...</td>\n",
              "      <td>real</td>\n",
              "      <td>4054</td>\n",
              "    </tr>\n",
              "    <tr>\n",
              "      <th>2</th>\n",
              "      <td>The special counsel investigation of links bet...</td>\n",
              "      <td>real</td>\n",
              "      <td>2766</td>\n",
              "    </tr>\n",
              "    <tr>\n",
              "      <th>3</th>\n",
              "      <td>Trump campaign adviser George Papadopoulos tol...</td>\n",
              "      <td>real</td>\n",
              "      <td>2431</td>\n",
              "    </tr>\n",
              "    <tr>\n",
              "      <th>4</th>\n",
              "      <td>President Donald Trump called on the U.S. Post...</td>\n",
              "      <td>real</td>\n",
              "      <td>5173</td>\n",
              "    </tr>\n",
              "    <tr>\n",
              "      <th>...</th>\n",
              "      <td>...</td>\n",
              "      <td>...</td>\n",
              "      <td>...</td>\n",
              "    </tr>\n",
              "    <tr>\n",
              "      <th>201544</th>\n",
              "      <td>Rise: The Dawn of Justice: $3-4 per copy  Rise...</td>\n",
              "      <td>fake_ai</td>\n",
              "      <td>2154</td>\n",
              "    </tr>\n",
              "    <tr>\n",
              "      <th>201545</th>\n",
              "      <td>There are a lot of things that I don't like ab...</td>\n",
              "      <td>fake_ai</td>\n",
              "      <td>3675</td>\n",
              "    </tr>\n",
              "    <tr>\n",
              "      <th>201546</th>\n",
              "      <td>Battles Between the English and the Scots  The...</td>\n",
              "      <td>fake_ai</td>\n",
              "      <td>3650</td>\n",
              "    </tr>\n",
              "    <tr>\n",
              "      <th>201547</th>\n",
              "      <td>Kurt Rambis is the new head coach of the Knick...</td>\n",
              "      <td>fake_ai</td>\n",
              "      <td>1838</td>\n",
              "    </tr>\n",
              "    <tr>\n",
              "      <th>201548</th>\n",
              "      <td>\"To be a leader... you need to do this or that...</td>\n",
              "      <td>fake_ai</td>\n",
              "      <td>2433</td>\n",
              "    </tr>\n",
              "  </tbody>\n",
              "</table>\n",
              "<p>201549 rows × 3 columns</p>\n",
              "</div>"
            ],
            "text/plain": [
              "                                                     text    group  length\n",
              "0       The head of a conservative Republican faction ...     real    4636\n",
              "1       Transgender people will be allowed for the fir...     real    4054\n",
              "2       The special counsel investigation of links bet...     real    2766\n",
              "3       Trump campaign adviser George Papadopoulos tol...     real    2431\n",
              "4       President Donald Trump called on the U.S. Post...     real    5173\n",
              "...                                                   ...      ...     ...\n",
              "201544  Rise: The Dawn of Justice: $3-4 per copy  Rise...  fake_ai    2154\n",
              "201545  There are a lot of things that I don't like ab...  fake_ai    3675\n",
              "201546  Battles Between the English and the Scots  The...  fake_ai    3650\n",
              "201547  Kurt Rambis is the new head coach of the Knick...  fake_ai    1838\n",
              "201548  \"To be a leader... you need to do this or that...  fake_ai    2433\n",
              "\n",
              "[201549 rows x 3 columns]"
            ]
          },
          "execution_count": 37,
          "metadata": {
            "tags": []
          },
          "output_type": "execute_result"
        }
      ],
      "source": [
        "# For texts longer than 5711 chars (the longest AI text), crop when the sentence at 5711 chars ends\n",
        "articles_df['text'] = articles_df.text.apply(lambda x: article_crop(x, 5711))\n",
        "articles_df"
      ]
    },
    {
      "cell_type": "code",
      "execution_count": null,
      "metadata": {
        "colab": {
          "base_uri": "https://localhost:8080/",
          "height": 111
        },
        "id": "NfqwXhBc4IY7",
        "outputId": "87e16206-3920-4c22-aebd-162762d9661c"
      },
      "outputs": [
        {
          "data": {
            "text/html": [
              "<div>\n",
              "<style scoped>\n",
              "    .dataframe tbody tr th:only-of-type {\n",
              "        vertical-align: middle;\n",
              "    }\n",
              "\n",
              "    .dataframe tbody tr th {\n",
              "        vertical-align: top;\n",
              "    }\n",
              "\n",
              "    .dataframe thead th {\n",
              "        text-align: right;\n",
              "    }\n",
              "</style>\n",
              "<table border=\"1\" class=\"dataframe\">\n",
              "  <thead>\n",
              "    <tr style=\"text-align: right;\">\n",
              "      <th></th>\n",
              "      <th>text</th>\n",
              "      <th>group</th>\n",
              "      <th>length</th>\n",
              "    </tr>\n",
              "  </thead>\n",
              "  <tbody>\n",
              "    <tr>\n",
              "      <th>22681</th>\n",
              "      <td>In another of Donald Trump s whine rests, the ...</td>\n",
              "      <td>fake_hum</td>\n",
              "      <td>9912</td>\n",
              "    </tr>\n",
              "    <tr>\n",
              "      <th>35379</th>\n",
              "      <td>Fundamental transformation Obama style Henry C...</td>\n",
              "      <td>fake_hum</td>\n",
              "      <td>11049</td>\n",
              "    </tr>\n",
              "  </tbody>\n",
              "</table>\n",
              "</div>"
            ],
            "text/plain": [
              "                                                    text     group  length\n",
              "22681  In another of Donald Trump s whine rests, the ...  fake_hum    9912\n",
              "35379  Fundamental transformation Obama style Henry C...  fake_hum   11049"
            ]
          },
          "execution_count": 40,
          "metadata": {
            "tags": []
          },
          "output_type": "execute_result"
        }
      ],
      "source": [
        "# articles that are still really long\n",
        "articles_df[articles_df.length > 8000]"
      ]
    },
    {
      "cell_type": "code",
      "execution_count": null,
      "metadata": {
        "colab": {
          "base_uri": "https://localhost:8080/",
          "height": 157
        },
        "id": "pcnFCwl44P3M",
        "outputId": "337c8260-dcf0-4e74-d8a2-f9ac1ddcf47c"
      },
      "outputs": [
        {
          "data": {
            "application/vnd.google.colaboratory.intrinsic+json": {
              "type": "string"
            },
            "text/plain": [
              "'g offense; Southern District of Alabama Sentence: 180 months  imprisonment; eight years  supervised release (March 8, 2007) Commutation Grant: Prison sentence commuted to expire on July 28, 2016, and supervised release term commuted to four years of supervised release.Isadore Gennings   Cincinnati, OH Offense: Conspiracy to distribute cocaine; interstate travel in aid of racketeering enterprises; possession with intent to distribute in excess of five kilograms of cocaine; Southern District of Ohio Sentence: 240 months  imprisonment; 10 years  supervised release (March 14, 2002) Commutation Grant: Prison sentence commuted to expire on July 28, 2016, and supervised release term commuted to five years of supervised release.Lamont Durville Glass   Knoxville, TN Offense: Possession with intent to distribute cocaine base; felon in possession of a firearm; Eastern District of Tennessee Sentence: 262 months  imprisonment; eight years  supervised release (January 9, 1998) Commutation Grant: Prison sentence commuted to expire on July 28, 2016.Vander Keith Gore   Little River, SC Offense: Conspiracy to possess with intent to distribute and to distribute 50 grams or more of cocaine base, five kilograms or more of cocaine, 50 kilograms or more of marijuana, and less than 100 grams of heroin; District of South Carolina Sentence: 240 months  imprisonment; 10 years  supervised release (October 30, 2002) Commutation Grant: Prison sentence commuted to expire on July 28, 2016.George Michael Gray   Springfield, OR Offense: Conspiracy to manufacture, possess with intent to distribute methamphetamine; manufacture of methamphetamine; possession with intent to distribute methamphetamine; possession of firearm in connection with drug trafficking offense; District of Oregon Sentence: Life imprisonment; five years  supervised release (July 3, 1995) Commutation Grant: Prison sentence commuted to expire on July 28, 2016.Curtis Greer   Rosenberg, TX Offense: Conspiracy to possess with intent to distribute 50 grams or more of a mixture and substance containing a detectable amount of cocaine base; possession with intent to distribute five grams or more of a mixture and substance containing a detectable amount of cocaine base (two counts); Southern District of Texas Sentence: Life imprisonment; 10 years  supervised release; $5,000 fine (August 21, 2003) Commutation Grant: Prison sentence commuted to expire on July 28, 2016, and unpaid balance of the $5,000 fine remitted.Jerome Harris, Jr.'"
            ]
          },
          "execution_count": 41,
          "metadata": {
            "tags": []
          },
          "output_type": "execute_result"
        }
      ],
      "source": [
        "# Last part of articles that are still really long\n",
        "# Both are sentences separated by colons and semicolons\n",
        "articles_df.text.iloc[22681][-2500:]\n",
        "articles_df.text.iloc[35379][-2500:]"
      ]
    },
    {
      "cell_type": "code",
      "execution_count": null,
      "metadata": {
        "colab": {
          "base_uri": "https://localhost:8080/",
          "height": 419
        },
        "id": "5JroVS3DGOl5",
        "outputId": "3a66ac91-2742-48de-d08b-89cd2416bbe3"
      },
      "outputs": [
        {
          "data": {
            "text/html": [
              "<div>\n",
              "<style scoped>\n",
              "    .dataframe tbody tr th:only-of-type {\n",
              "        vertical-align: middle;\n",
              "    }\n",
              "\n",
              "    .dataframe tbody tr th {\n",
              "        vertical-align: top;\n",
              "    }\n",
              "\n",
              "    .dataframe thead th {\n",
              "        text-align: right;\n",
              "    }\n",
              "</style>\n",
              "<table border=\"1\" class=\"dataframe\">\n",
              "  <thead>\n",
              "    <tr style=\"text-align: right;\">\n",
              "      <th></th>\n",
              "      <th>text</th>\n",
              "      <th>group</th>\n",
              "      <th>length</th>\n",
              "      <th>sentences</th>\n",
              "    </tr>\n",
              "  </thead>\n",
              "  <tbody>\n",
              "    <tr>\n",
              "      <th>0</th>\n",
              "      <td>The head of a conservative Republican faction ...</td>\n",
              "      <td>real</td>\n",
              "      <td>4636</td>\n",
              "      <td>[The head of a conservative Republican faction...</td>\n",
              "    </tr>\n",
              "    <tr>\n",
              "      <th>1</th>\n",
              "      <td>Transgender people will be allowed for the fir...</td>\n",
              "      <td>real</td>\n",
              "      <td>4054</td>\n",
              "      <td>[Transgender people will be allowed for the fi...</td>\n",
              "    </tr>\n",
              "    <tr>\n",
              "      <th>2</th>\n",
              "      <td>The special counsel investigation of links bet...</td>\n",
              "      <td>real</td>\n",
              "      <td>2766</td>\n",
              "      <td>[The special counsel investigation of links be...</td>\n",
              "    </tr>\n",
              "    <tr>\n",
              "      <th>3</th>\n",
              "      <td>Trump campaign adviser George Papadopoulos tol...</td>\n",
              "      <td>real</td>\n",
              "      <td>2431</td>\n",
              "      <td>[Trump campaign adviser George Papadopoulos to...</td>\n",
              "    </tr>\n",
              "    <tr>\n",
              "      <th>4</th>\n",
              "      <td>President Donald Trump called on the U.S. Post...</td>\n",
              "      <td>real</td>\n",
              "      <td>5173</td>\n",
              "      <td>[President Donald Trump called on the U.S., Po...</td>\n",
              "    </tr>\n",
              "    <tr>\n",
              "      <th>...</th>\n",
              "      <td>...</td>\n",
              "      <td>...</td>\n",
              "      <td>...</td>\n",
              "      <td>...</td>\n",
              "    </tr>\n",
              "    <tr>\n",
              "      <th>201544</th>\n",
              "      <td>Rise: The Dawn of Justice: $3-4 per copy  Rise...</td>\n",
              "      <td>fake_ai</td>\n",
              "      <td>2154</td>\n",
              "      <td>[Rise: The Dawn of Justice: $3-4 per copy  Ris...</td>\n",
              "    </tr>\n",
              "    <tr>\n",
              "      <th>201545</th>\n",
              "      <td>There are a lot of things that I don't like ab...</td>\n",
              "      <td>fake_ai</td>\n",
              "      <td>3675</td>\n",
              "      <td>[There are a lot of things that I don't like a...</td>\n",
              "    </tr>\n",
              "    <tr>\n",
              "      <th>201546</th>\n",
              "      <td>Battles Between the English and the Scots  The...</td>\n",
              "      <td>fake_ai</td>\n",
              "      <td>3650</td>\n",
              "      <td>[Battles Between the English and the Scots  Th...</td>\n",
              "    </tr>\n",
              "    <tr>\n",
              "      <th>201547</th>\n",
              "      <td>Kurt Rambis is the new head coach of the Knick...</td>\n",
              "      <td>fake_ai</td>\n",
              "      <td>1838</td>\n",
              "      <td>[Kurt Rambis is the new head coach of the Knic...</td>\n",
              "    </tr>\n",
              "    <tr>\n",
              "      <th>201548</th>\n",
              "      <td>\"To be a leader... you need to do this or that...</td>\n",
              "      <td>fake_ai</td>\n",
              "      <td>2433</td>\n",
              "      <td>[\"To be a leader... you need to do this or tha...</td>\n",
              "    </tr>\n",
              "  </tbody>\n",
              "</table>\n",
              "<p>201549 rows × 4 columns</p>\n",
              "</div>"
            ],
            "text/plain": [
              "                                                     text  ...                                          sentences\n",
              "0       The head of a conservative Republican faction ...  ...  [The head of a conservative Republican faction...\n",
              "1       Transgender people will be allowed for the fir...  ...  [Transgender people will be allowed for the fi...\n",
              "2       The special counsel investigation of links bet...  ...  [The special counsel investigation of links be...\n",
              "3       Trump campaign adviser George Papadopoulos tol...  ...  [Trump campaign adviser George Papadopoulos to...\n",
              "4       President Donald Trump called on the U.S. Post...  ...  [President Donald Trump called on the U.S., Po...\n",
              "...                                                   ...  ...                                                ...\n",
              "201544  Rise: The Dawn of Justice: $3-4 per copy  Rise...  ...  [Rise: The Dawn of Justice: $3-4 per copy  Ris...\n",
              "201545  There are a lot of things that I don't like ab...  ...  [There are a lot of things that I don't like a...\n",
              "201546  Battles Between the English and the Scots  The...  ...  [Battles Between the English and the Scots  Th...\n",
              "201547  Kurt Rambis is the new head coach of the Knick...  ...  [Kurt Rambis is the new head coach of the Knic...\n",
              "201548  \"To be a leader... you need to do this or that...  ...  [\"To be a leader... you need to do this or tha...\n",
              "\n",
              "[201549 rows x 4 columns]"
            ]
          },
          "execution_count": 43,
          "metadata": {
            "tags": []
          },
          "output_type": "execute_result"
        }
      ],
      "source": [
        "# Tokenize sentences\n",
        "articles_df['sentences'] = articles_df['text'].apply(lambda x: nltk.sent_tokenize(x))\n",
        "\n",
        "articles_df"
      ]
    },
    {
      "cell_type": "code",
      "execution_count": null,
      "metadata": {
        "id": "lZf33yyu_B6W"
      },
      "outputs": [],
      "source": [
        "def avg_words_per_sent(text):\n",
        "  \"\"\"Feed a list of sentences (param:text) and \n",
        "  returns the average number of words per sentence\"\"\"\n",
        "  \n",
        "  num_words_list = [] # List of word count per sentence\n",
        "  \n",
        "  for sent in range(len(text)):\n",
        "\n",
        "    # Number of words in a sentence, excludes punctuation\n",
        "    num_words = len([word for word in word_tokenize(text[sent]) if word.isalnum()])\n",
        "    \n",
        "    # Add number of words for sentence to the list\n",
        "    num_words_list.append(num_words)\n",
        "\n",
        "  \n",
        "  # Compute the average\n",
        "  avg_word_per_sentences = sum(num_words_list) / len(num_words_list)\n",
        "\n",
        "  return avg_word_per_sentences\n"
      ]
    },
    {
      "cell_type": "code",
      "execution_count": null,
      "metadata": {
        "id": "zWc7CN0KtNCH"
      },
      "outputs": [],
      "source": [
        "# Compute avg words per sentence for each column\n",
        "articles_df['words_per_sent'] = articles_df['sentences'].apply(lambda x: avg_words_per_sent(x))"
      ]
    },
    {
      "cell_type": "code",
      "execution_count": null,
      "metadata": {
        "colab": {
          "base_uri": "https://localhost:8080/",
          "height": 204
        },
        "id": "R1wWvXHctCpQ",
        "outputId": "c48fcf94-9e85-402b-fcf6-7af9e994fa84"
      },
      "outputs": [
        {
          "data": {
            "text/html": [
              "<div>\n",
              "<style scoped>\n",
              "    .dataframe tbody tr th:only-of-type {\n",
              "        vertical-align: middle;\n",
              "    }\n",
              "\n",
              "    .dataframe tbody tr th {\n",
              "        vertical-align: top;\n",
              "    }\n",
              "\n",
              "    .dataframe thead th {\n",
              "        text-align: right;\n",
              "    }\n",
              "</style>\n",
              "<table border=\"1\" class=\"dataframe\">\n",
              "  <thead>\n",
              "    <tr style=\"text-align: right;\">\n",
              "      <th></th>\n",
              "      <th>text</th>\n",
              "      <th>group</th>\n",
              "      <th>length</th>\n",
              "      <th>sentences</th>\n",
              "      <th>words_per_sent</th>\n",
              "    </tr>\n",
              "  </thead>\n",
              "  <tbody>\n",
              "    <tr>\n",
              "      <th>0</th>\n",
              "      <td>The head of a conservative Republican faction ...</td>\n",
              "      <td>real</td>\n",
              "      <td>4636</td>\n",
              "      <td>[The head of a conservative Republican faction...</td>\n",
              "      <td>24.700000</td>\n",
              "    </tr>\n",
              "    <tr>\n",
              "      <th>1</th>\n",
              "      <td>Transgender people will be allowed for the fir...</td>\n",
              "      <td>real</td>\n",
              "      <td>4054</td>\n",
              "      <td>[Transgender people will be allowed for the fi...</td>\n",
              "      <td>29.190476</td>\n",
              "    </tr>\n",
              "    <tr>\n",
              "      <th>2</th>\n",
              "      <td>The special counsel investigation of links bet...</td>\n",
              "      <td>real</td>\n",
              "      <td>2766</td>\n",
              "      <td>[The special counsel investigation of links be...</td>\n",
              "      <td>26.882353</td>\n",
              "    </tr>\n",
              "    <tr>\n",
              "      <th>3</th>\n",
              "      <td>Trump campaign adviser George Papadopoulos tol...</td>\n",
              "      <td>real</td>\n",
              "      <td>2431</td>\n",
              "      <td>[Trump campaign adviser George Papadopoulos to...</td>\n",
              "      <td>23.312500</td>\n",
              "    </tr>\n",
              "    <tr>\n",
              "      <th>4</th>\n",
              "      <td>President Donald Trump called on the U.S. Post...</td>\n",
              "      <td>real</td>\n",
              "      <td>5173</td>\n",
              "      <td>[President Donald Trump called on the U.S., Po...</td>\n",
              "      <td>20.850000</td>\n",
              "    </tr>\n",
              "  </tbody>\n",
              "</table>\n",
              "</div>"
            ],
            "text/plain": [
              "                                                text  ... words_per_sent\n",
              "0  The head of a conservative Republican faction ...  ...      24.700000\n",
              "1  Transgender people will be allowed for the fir...  ...      29.190476\n",
              "2  The special counsel investigation of links bet...  ...      26.882353\n",
              "3  Trump campaign adviser George Papadopoulos tol...  ...      23.312500\n",
              "4  President Donald Trump called on the U.S. Post...  ...      20.850000\n",
              "\n",
              "[5 rows x 5 columns]"
            ]
          },
          "execution_count": 46,
          "metadata": {
            "tags": []
          },
          "output_type": "execute_result"
        }
      ],
      "source": [
        "articles_df.head()"
      ]
    },
    {
      "cell_type": "code",
      "execution_count": null,
      "metadata": {
        "colab": {
          "base_uri": "https://localhost:8080/",
          "height": 419
        },
        "id": "sqpgrA71uv0n",
        "outputId": "7e96bd03-6223-4d20-ba68-ddd04798e7e7"
      },
      "outputs": [
        {
          "data": {
            "text/html": [
              "<div>\n",
              "<style scoped>\n",
              "    .dataframe tbody tr th:only-of-type {\n",
              "        vertical-align: middle;\n",
              "    }\n",
              "\n",
              "    .dataframe tbody tr th {\n",
              "        vertical-align: top;\n",
              "    }\n",
              "\n",
              "    .dataframe thead th {\n",
              "        text-align: right;\n",
              "    }\n",
              "</style>\n",
              "<table border=\"1\" class=\"dataframe\">\n",
              "  <thead>\n",
              "    <tr style=\"text-align: right;\">\n",
              "      <th></th>\n",
              "      <th>text</th>\n",
              "      <th>group</th>\n",
              "      <th>length</th>\n",
              "      <th>sentences</th>\n",
              "      <th>words_per_sent</th>\n",
              "    </tr>\n",
              "  </thead>\n",
              "  <tbody>\n",
              "    <tr>\n",
              "      <th>36773</th>\n",
              "      <td>PURCHASE TICKETS  Tuesday, May 3 – The Last Ki...</td>\n",
              "      <td>fake_ai</td>\n",
              "      <td>1780</td>\n",
              "      <td>[PURCHASE TICKETS  Tuesday, May 3 – The Last K...</td>\n",
              "      <td>303.000000</td>\n",
              "    </tr>\n",
              "    <tr>\n",
              "      <th>36986</th>\n",
              "      <td>Forum Jump  User Control Panel Private Message...</td>\n",
              "      <td>fake_ai</td>\n",
              "      <td>946</td>\n",
              "      <td>[Forum Jump  User Control Panel Private Messag...</td>\n",
              "      <td>122.000000</td>\n",
              "    </tr>\n",
              "    <tr>\n",
              "      <th>37289</th>\n",
              "      <td>The first season of HBO's Girls has been one l...</td>\n",
              "      <td>fake_ai</td>\n",
              "      <td>5048</td>\n",
              "      <td>[The first season of HBO's Girls has been one ...</td>\n",
              "      <td>274.666667</td>\n",
              "    </tr>\n",
              "    <tr>\n",
              "      <th>37398</th>\n",
              "      <td>On this episode we talk to writer/director and...</td>\n",
              "      <td>fake_ai</td>\n",
              "      <td>833</td>\n",
              "      <td>[On this episode we talk to writer/director an...</td>\n",
              "      <td>136.000000</td>\n",
              "    </tr>\n",
              "    <tr>\n",
              "      <th>37684</th>\n",
              "      <td>(1) A person commits criminal trespass in the ...</td>\n",
              "      <td>fake_ai</td>\n",
              "      <td>803</td>\n",
              "      <td>[(1) A person commits criminal trespass in the...</td>\n",
              "      <td>139.000000</td>\n",
              "    </tr>\n",
              "    <tr>\n",
              "      <th>...</th>\n",
              "      <td>...</td>\n",
              "      <td>...</td>\n",
              "      <td>...</td>\n",
              "      <td>...</td>\n",
              "      <td>...</td>\n",
              "    </tr>\n",
              "    <tr>\n",
              "      <th>199411</th>\n",
              "      <td>1 Clean Episode 20: The Biggest Deal In The Hi...</td>\n",
              "      <td>fake_ai</td>\n",
              "      <td>2796</td>\n",
              "      <td>[1 Clean Episode 20: The Biggest Deal In The H...</td>\n",
              "      <td>260.000000</td>\n",
              "    </tr>\n",
              "    <tr>\n",
              "      <th>199911</th>\n",
              "      <td>1st Round 1st Overall 1st Team 2nd Team 2nd Te...</td>\n",
              "      <td>fake_ai</td>\n",
              "      <td>1225</td>\n",
              "      <td>[1st Round 1st Overall 1st Team 2nd Team 2nd T...</td>\n",
              "      <td>178.000000</td>\n",
              "    </tr>\n",
              "    <tr>\n",
              "      <th>200086</th>\n",
              "      <td>1 of 11 View Caption  Steve Griffin | BDN Stev...</td>\n",
              "      <td>fake_ai</td>\n",
              "      <td>785</td>\n",
              "      <td>[1 of 11 View Caption  Steve Griffin | BDN Ste...</td>\n",
              "      <td>121.000000</td>\n",
              "    </tr>\n",
              "    <tr>\n",
              "      <th>200394</th>\n",
              "      <td>The following is a list of items that make goo...</td>\n",
              "      <td>fake_ai</td>\n",
              "      <td>5641</td>\n",
              "      <td>[The following is a list of items that make go...</td>\n",
              "      <td>166.400000</td>\n",
              "    </tr>\n",
              "    <tr>\n",
              "      <th>201544</th>\n",
              "      <td>Rise: The Dawn of Justice: $3-4 per copy  Rise...</td>\n",
              "      <td>fake_ai</td>\n",
              "      <td>2154</td>\n",
              "      <td>[Rise: The Dawn of Justice: $3-4 per copy  Ris...</td>\n",
              "      <td>350.000000</td>\n",
              "    </tr>\n",
              "  </tbody>\n",
              "</table>\n",
              "<p>424 rows × 5 columns</p>\n",
              "</div>"
            ],
            "text/plain": [
              "                                                     text  ... words_per_sent\n",
              "36773   PURCHASE TICKETS  Tuesday, May 3 – The Last Ki...  ...     303.000000\n",
              "36986   Forum Jump  User Control Panel Private Message...  ...     122.000000\n",
              "37289   The first season of HBO's Girls has been one l...  ...     274.666667\n",
              "37398   On this episode we talk to writer/director and...  ...     136.000000\n",
              "37684   (1) A person commits criminal trespass in the ...  ...     139.000000\n",
              "...                                                   ...  ...            ...\n",
              "199411  1 Clean Episode 20: The Biggest Deal In The Hi...  ...     260.000000\n",
              "199911  1st Round 1st Overall 1st Team 2nd Team 2nd Te...  ...     178.000000\n",
              "200086  1 of 11 View Caption  Steve Griffin | BDN Stev...  ...     121.000000\n",
              "200394  The following is a list of items that make goo...  ...     166.400000\n",
              "201544  Rise: The Dawn of Justice: $3-4 per copy  Rise...  ...     350.000000\n",
              "\n",
              "[424 rows x 5 columns]"
            ]
          },
          "execution_count": 48,
          "metadata": {
            "tags": []
          },
          "output_type": "execute_result"
        }
      ],
      "source": [
        "# AI text higher than 100 words per sentence\n",
        "articles_df[(articles_df['words_per_sent'] > 100) & (articles_df['group'] == \"fake_ai\")]"
      ]
    },
    {
      "cell_type": "code",
      "execution_count": null,
      "metadata": {
        "colab": {
          "base_uri": "https://localhost:8080/",
          "height": 157
        },
        "id": "d3rdhQLZMy9m",
        "outputId": "1a223c9c-7e90-4d5a-ce87-09bf85913f23"
      },
      "outputs": [
        {
          "data": {
            "application/vnd.google.colaboratory.intrinsic+json": {
              "type": "string"
            },
            "text/plain": [
              "\"Lyrics  I've seen you stand  I've heard you call  It's been so hard, you've left me, goodbye  You made me smile  I saw you stand all night long  You looked as if you were going right to sleep  And I know you wouldn't lie to me   I know you wouldn't lie to me, tell me you didn't want to see me  You couldn't hide your smile when I was here  You had the courage of what you were gonna do  And I know you wouldn't lie to me, tell me you wouldn't  I've told you so many times  Laugh, cry, love, hurt  I've seen you stand with me  Laugh, cry, love, hurt  I've seen you stand, I've heard you call, let's go  You said 'we,' I said 'me'  It was in the middle of the night  We were standing on edge together, my heart is breaking  I saw it all before  You told me you loved me every time  And you said goodbye  And I know you wouldn't lie to me, tell me it wasn't true  You said you would wait by the phone  For you  I've told you so many times  Laugh, cry, love, hurt  I've seen you stand, I've heard you call, let's go  You said 'we'  And I know you wouldn't lie to me, tell me you wouldn't  I've told you so many times  You know I wouldn't lie   The way you used to talk  The way you used to laugh in my ear  The way you said when you walked into the room, 'I love you, I love you'  (I know you)   I know you wouldn't lie to me, tell me you weren't with me  There are times I didn't understand, but you weren't lying  You would give me your trust all the time  And I know you wouldn't lie to me, tell me you wouldn't  Just to be near me every night for as long as I could  I told you so many times, 'I love you'  (I know you)   I know you would've said 'I love you, too'  I know you would've said, 'I'll never let you go'  I knew you wouldn't call the police, but I know you knew they'd come  The way you used to talk  The way you used to laugh in my ear  The way you said when you walked into the room, 'I love you'  'I love you'   I knew it was a lie all along  I knew it was the truth  And I know it wasn't meant for anybody else  I know you wouldn't lie to me, tell me you wouldn't  I've told you so many times, 'I love you'  (I know you)   Tell me you wouldn't, tell me you wouldn't  Tell me you wouldn't, tell me you wouldn't  Give me a reason, tell me why you're going  You wouldn't lie to me, tell me I won't find you  You wouldn't lie to me, tell me you wouldn't  For me, tell me you wouldn't (you wouldn't lie)  Just to be near me every night for as long as I could  I told you so many times, 'I love you'  (I know you)\""
            ]
          },
          "execution_count": 49,
          "metadata": {
            "tags": []
          },
          "output_type": "execute_result"
        }
      ],
      "source": [
        "# AI-generated lyric example\n",
        "articles_df.text.iloc[43307]"
      ]
    },
    {
      "cell_type": "code",
      "execution_count": null,
      "metadata": {
        "colab": {
          "base_uri": "https://localhost:8080/",
          "height": 157
        },
        "id": "ESDXCBGPM2Mp",
        "outputId": "f1d0530a-e99f-4e43-c777-0f95dc05455a"
      },
      "outputs": [
        {
          "data": {
            "application/vnd.google.colaboratory.intrinsic+json": {
              "type": "string"
            },
            "text/plain": [
              "'Categories  Categories Select Category 90 Days (9) All Access Passes (3) Books (1) Briefing for Authors (2) Briefing for Authors and Publishers (10) Calendars (1) Conferences (1) Content and Tools for Authors (20) Editing Tools (1) Events (1) Event Tickets (1) Finance and Operations Team (8) Event Planning (1) Fundraising (16) Graphic Design (1) Hacks/Theory/Techniques (3) Helpdesk Support (3) Interviews/Conversations (1) Jokes/Laughter (1) Life Hacks (3) Maintenance, Troubleshooting, & Administration (1) Marketing (1) Miscellaneous (1) Open Source Programs and Communities (1) Planning (3) Press Releases (1) Publishing (16) Publishing Events/Resources (1) Publishing Tools (17) Proofreading (1) Report Writing (1) Research (1) Sales (3) Sponsorship Opportunities (1) Software (3) Support (2) Support Services (1) Software Documentation (1) Teaching (1) Training (1) Technical Support (5) Uncategorized (25) Video Tutorials (2) Writing Books (7)  Archives Archives Select Month September 2018 (1) August 2018 (3) July 2018 (1) June 2018 (4) May 2018 (5) April 2018 (3) March 2018 (5) February 2018 (6) January 2018 (1) December 2017 (1) November 2017 (1) October 2017 (2) September 2017 (1) August 2017 (2) July 2017 (3) June 2017 (3) May 2017 (1) April 2017 (1) March 2017 (2) February 2017 (1) January 2017 (4) December 2016 (13) November 2016 (1) October 2016 (9) September 2016 (19) August 2016 (7) July 2016 (15) June 2016 (1) May 2016 (1) April 2016 (13) March 2016 (8) February 2016 (6) January 2016 (6) December 2015 (5) November 2015 (2) October 2015 (5) September 2015 (9) August 2015 (2) July 2015 (10) June 2015 (2) May 2015 (5) April 2015 (3) March 2015 (2) February 2015 (4) January 2015 (2) December 2014 (3) November 2014 (2) October 2014 (5) September 2014 (5) August 2014 (2) July 2014 (5) June 2014 (-) May 2014 (3) April 2014 (1) March 2014 (1) February 2014 (1) January 2014 (1) December 2013 (3) November 2013 (2) October 2013 (3) September 2013 (4) August 2013 (8) July 2013 (16) June 2013 (1) May 2013 (3) April 2013 (4) March 2013 (1) February 2013 (1) January 2013 (4) December 2012 (3) November 2012 (5) October 2012 (4) September 2012 (6) August 2012 (1) July 2012 (1) June 2012 (7) May 2012 (1) April 2012 (1) March 2012 (5) February 2012 (1) January 2012 (6) December 2011 (9) November 2011 (4) October 2011 (2) September 2011 (4) August 2011 (2) July 2011 (1) June 2011 (4) May 2011 (2) April 2011 (3) March 2011 (4) February 2011 (5) January 2011 (8) December 2010 (3) November 2010 (2) October 2010 (11) September 2010 (0) August 2010 (3) July 2010 (4) June 2010 (3) May 2010 (2) April 2010 (8) March 2010 (1) February 2010 (1) January 2010 (1) Date  Up next:'"
            ]
          },
          "execution_count": 50,
          "metadata": {
            "tags": []
          },
          "output_type": "execute_result"
        }
      ],
      "source": [
        "# AI-generated youtube page example\n",
        "articles_df.text.iloc[49514]"
      ]
    },
    {
      "cell_type": "code",
      "execution_count": null,
      "metadata": {
        "colab": {
          "base_uri": "https://localhost:8080/",
          "height": 419
        },
        "id": "-TnJPOMsJa1D",
        "outputId": "d8c86e67-7fce-4d6e-d1c6-5aa99cfb1d7f"
      },
      "outputs": [
        {
          "data": {
            "text/html": [
              "<div>\n",
              "<style scoped>\n",
              "    .dataframe tbody tr th:only-of-type {\n",
              "        vertical-align: middle;\n",
              "    }\n",
              "\n",
              "    .dataframe tbody tr th {\n",
              "        vertical-align: top;\n",
              "    }\n",
              "\n",
              "    .dataframe thead th {\n",
              "        text-align: right;\n",
              "    }\n",
              "</style>\n",
              "<table border=\"1\" class=\"dataframe\">\n",
              "  <thead>\n",
              "    <tr style=\"text-align: right;\">\n",
              "      <th></th>\n",
              "      <th>text</th>\n",
              "      <th>group</th>\n",
              "      <th>length</th>\n",
              "      <th>sentences</th>\n",
              "      <th>words_per_sent</th>\n",
              "    </tr>\n",
              "  </thead>\n",
              "  <tbody>\n",
              "    <tr>\n",
              "      <th>639</th>\n",
              "      <td>Attorneys representing Mike Flynn, a former ai...</td>\n",
              "      <td>real</td>\n",
              "      <td>759</td>\n",
              "      <td>[Attorneys representing Mike Flynn, a former a...</td>\n",
              "      <td>116.000000</td>\n",
              "    </tr>\n",
              "    <tr>\n",
              "      <th>3553</th>\n",
              "      <td>U.S. Defense Secretary Jim Mattis said he had ...</td>\n",
              "      <td>real</td>\n",
              "      <td>647</td>\n",
              "      <td>[U.S. Defense Secretary Jim Mattis said he had...</td>\n",
              "      <td>101.000000</td>\n",
              "    </tr>\n",
              "    <tr>\n",
              "      <th>5631</th>\n",
              "      <td>President Donald Trump on Friday said he was l...</td>\n",
              "      <td>real</td>\n",
              "      <td>1311</td>\n",
              "      <td>[President Donald Trump on Friday said he was ...</td>\n",
              "      <td>109.500000</td>\n",
              "    </tr>\n",
              "    <tr>\n",
              "      <th>6364</th>\n",
              "      <td>The following are people mentioned as contende...</td>\n",
              "      <td>real</td>\n",
              "      <td>4161</td>\n",
              "      <td>[The following are people mentioned as contend...</td>\n",
              "      <td>113.200000</td>\n",
              "    </tr>\n",
              "    <tr>\n",
              "      <th>6407</th>\n",
              "      <td>The following are people mentioned as contende...</td>\n",
              "      <td>real</td>\n",
              "      <td>4269</td>\n",
              "      <td>[The following are people mentioned as contend...</td>\n",
              "      <td>116.600000</td>\n",
              "    </tr>\n",
              "    <tr>\n",
              "      <th>...</th>\n",
              "      <td>...</td>\n",
              "      <td>...</td>\n",
              "      <td>...</td>\n",
              "      <td>...</td>\n",
              "      <td>...</td>\n",
              "    </tr>\n",
              "    <tr>\n",
              "      <th>36288</th>\n",
              "      <td>21st Century Wire says What is wrong with Chri...</td>\n",
              "      <td>fake_hum</td>\n",
              "      <td>787</td>\n",
              "      <td>[21st Century Wire says What is wrong with Chr...</td>\n",
              "      <td>133.000000</td>\n",
              "    </tr>\n",
              "    <tr>\n",
              "      <th>36295</th>\n",
              "      <td>21st Century Wire says It is not looking good ...</td>\n",
              "      <td>fake_hum</td>\n",
              "      <td>1099</td>\n",
              "      <td>[21st Century Wire says It is not looking good...</td>\n",
              "      <td>176.000000</td>\n",
              "    </tr>\n",
              "    <tr>\n",
              "      <th>36310</th>\n",
              "      <td>21st Century Wire says The FBI is walking a ve...</td>\n",
              "      <td>fake_hum</td>\n",
              "      <td>2048</td>\n",
              "      <td>[21st Century Wire says The FBI is walking a v...</td>\n",
              "      <td>110.666667</td>\n",
              "    </tr>\n",
              "    <tr>\n",
              "      <th>36311</th>\n",
              "      <td>21st Century Wire says This is the news that t...</td>\n",
              "      <td>fake_hum</td>\n",
              "      <td>1615</td>\n",
              "      <td>[21st Century Wire says This is the news that ...</td>\n",
              "      <td>248.000000</td>\n",
              "    </tr>\n",
              "    <tr>\n",
              "      <th>36332</th>\n",
              "      <td>Sam Levin The GuardianOn 23 January, a group o...</td>\n",
              "      <td>fake_hum</td>\n",
              "      <td>1983</td>\n",
              "      <td>[Sam Levin The GuardianOn 23 January, a group ...</td>\n",
              "      <td>155.500000</td>\n",
              "    </tr>\n",
              "  </tbody>\n",
              "</table>\n",
              "<p>87 rows × 5 columns</p>\n",
              "</div>"
            ],
            "text/plain": [
              "                                                    text  ... words_per_sent\n",
              "639    Attorneys representing Mike Flynn, a former ai...  ...     116.000000\n",
              "3553   U.S. Defense Secretary Jim Mattis said he had ...  ...     101.000000\n",
              "5631   President Donald Trump on Friday said he was l...  ...     109.500000\n",
              "6364   The following are people mentioned as contende...  ...     113.200000\n",
              "6407   The following are people mentioned as contende...  ...     116.600000\n",
              "...                                                  ...  ...            ...\n",
              "36288  21st Century Wire says What is wrong with Chri...  ...     133.000000\n",
              "36295  21st Century Wire says It is not looking good ...  ...     176.000000\n",
              "36310  21st Century Wire says The FBI is walking a ve...  ...     110.666667\n",
              "36311  21st Century Wire says This is the news that t...  ...     248.000000\n",
              "36332  Sam Levin The GuardianOn 23 January, a group o...  ...     155.500000\n",
              "\n",
              "[87 rows x 5 columns]"
            ]
          },
          "execution_count": 51,
          "metadata": {
            "tags": []
          },
          "output_type": "execute_result"
        }
      ],
      "source": [
        "# Human authored text higher than 100 words per sentence\n",
        "articles_df[(articles_df['words_per_sent'] > 100) & (articles_df['group'] != \"fake_ai\")]"
      ]
    },
    {
      "cell_type": "code",
      "execution_count": null,
      "metadata": {
        "colab": {
          "base_uri": "https://localhost:8080/"
        },
        "id": "bJ-EE_Zl-II6",
        "outputId": "d30e9da2-9f16-4ab2-dcd3-c97aaa64ad32"
      },
      "outputs": [
        {
          "data": {
            "text/plain": [
              "['21st Century Wire says This is the news that the elite political establishment did not want to hear.Watch a video of this report here:A new poll by Rasmussen Reports has Donald Trump beating Hillary Clinton by two points in a head-to-head matchup.Trump comes in at 41% with Clinton trailing behind with 39%.15% of respondents would prefer some other candidate, while 5% were undecided.Last week, Rasmussen ran the same poll and the candidates were evenly split with 38% each.Other polls have suggested that Trump has no chance of beating Hillary, but this latest development certainly brings those conclusions into question.The elite political establishment class is definitely going to be worried by this news, and the ridiculous attacks levelled against Trump may be about to reach new heights.Most worrying for those elites is the thought of America getting along with other countries, something that Trump has explicitly stated he wants to do as president.This means an end to foreign adventurism that has made the military industrial complex such a force to be reckoned with in modern America.Trump has even said that he wants to promote stability around the world and not change, implicitly suggesting that supporting foreign terrorist groups to overthrow nations is the wrong move.This new poll means that this drastic change to American foreign policy direction is one step closer to becoming reality, and with Trump himself promising to crush  Crooked Hillary Clinton  in the debates   this could be just the start of things to come.GET THE FULL STORY ON THE ELECTION: 21st Century Wire 2016 Election Files']"
            ]
          },
          "execution_count": 52,
          "metadata": {
            "tags": []
          },
          "output_type": "execute_result"
        }
      ],
      "source": [
        "# fake_hum article without space between periods\n",
        "articles_df.sentences.iloc[36311] "
      ]
    },
    {
      "cell_type": "code",
      "execution_count": null,
      "metadata": {
        "colab": {
          "base_uri": "https://localhost:8080/"
        },
        "id": "bnjMKNEtvHYI",
        "outputId": "53418d34-6a5c-4fe1-de9b-00f998fa6611"
      },
      "outputs": [
        {
          "name": "stdout",
          "output_type": "stream",
          "text": [
            "New count of articles\n",
            "# of articles for real: 20034\n",
            "# of articles for fake_hum: 16307\n",
            "# of articles for fake_ai: 164697\n"
          ]
        }
      ],
      "source": [
        "# Dropping articles with 100+ average words per sentence\n",
        "articles_df.drop(articles_df[articles_df['words_per_sent'] > 100].index, inplace=True)\n",
        "\n",
        "# Reset index\n",
        "articles_df.reset_index(drop=True, inplace=True)\n",
        "\n",
        "print(\"New count of articles\")\n",
        "print(\"# of articles for real: \" + str(len(articles_df[articles_df['group'] == 'real'])))\n",
        "print(\"# of articles for fake_hum: \" + str(len(articles_df[articles_df['group'] == 'fake_hum'])))\n",
        "print(\"# of articles for fake_ai: \" + str(len(articles_df[articles_df['group'] == 'fake_ai'])))"
      ]
    },
    {
      "cell_type": "markdown",
      "metadata": {
        "id": "6Ioe4e2m8V64"
      },
      "source": [
        "We can see in the two plots below that the disparity between groups has been significantly reduced."
      ]
    },
    {
      "cell_type": "code",
      "execution_count": null,
      "metadata": {
        "colab": {
          "base_uri": "https://localhost:8080/",
          "height": 407
        },
        "id": "W4d4pfM32PIT",
        "outputId": "3e64df3a-144b-4867-d417-a6fa158705ef"
      },
      "outputs": [
        {
          "data": {
            "text/plain": [
              "Text(0.5, 1.0, 'Distribution of avg. words/sentence by group')"
            ]
          },
          "execution_count": 55,
          "metadata": {
            "tags": []
          },
          "output_type": "execute_result"
        },
        {
          "data": {
            "image/png": "[encoded data removed]",
            "text/plain": [
              "<Figure size 444.625x360 with 1 Axes>"
            ]
          },
          "metadata": {
            "needs_background": "light",
            "tags": []
          },
          "output_type": "display_data"
        }
      ],
      "source": [
        "# Plotting probability distribution due to uneven # of samples between groups\n",
        "sns.displot(articles_df, x='words_per_sent', hue='group', stat='probability', common_norm=False)\n",
        "\n",
        "plt.ylabel(\"Probability\", fontsize= 14)\n",
        "plt.xlabel(\"Avg. words/sentence\", fontsize= 14)\n",
        "plt.title(\"Distribution of avg. words/sentence by group\", fontsize=16)"
      ]
    },
    {
      "cell_type": "code",
      "execution_count": null,
      "metadata": {
        "colab": {
          "base_uri": "https://localhost:8080/",
          "height": 289
        },
        "id": "NU1aIINwK5r9",
        "outputId": "09b64aeb-0403-42b4-9ed3-0b6e04843232"
      },
      "outputs": [
        {
          "data": {
            "text/html": [
              "<div>\n",
              "<style scoped>\n",
              "    .dataframe tbody tr th:only-of-type {\n",
              "        vertical-align: middle;\n",
              "    }\n",
              "\n",
              "    .dataframe tbody tr th {\n",
              "        vertical-align: top;\n",
              "    }\n",
              "\n",
              "    .dataframe thead th {\n",
              "        text-align: right;\n",
              "    }\n",
              "</style>\n",
              "<table border=\"1\" class=\"dataframe\">\n",
              "  <thead>\n",
              "    <tr style=\"text-align: right;\">\n",
              "      <th></th>\n",
              "      <th>text</th>\n",
              "      <th>group</th>\n",
              "      <th>length</th>\n",
              "      <th>sentences</th>\n",
              "      <th>words_per_sent</th>\n",
              "      <th>text_lower</th>\n",
              "    </tr>\n",
              "  </thead>\n",
              "  <tbody>\n",
              "    <tr>\n",
              "      <th>0</th>\n",
              "      <td>The head of a conservative Republican faction ...</td>\n",
              "      <td>real</td>\n",
              "      <td>4636</td>\n",
              "      <td>[The head of a conservative Republican faction...</td>\n",
              "      <td>24.700000</td>\n",
              "      <td>the head of a conservative republican faction ...</td>\n",
              "    </tr>\n",
              "    <tr>\n",
              "      <th>1</th>\n",
              "      <td>Transgender people will be allowed for the fir...</td>\n",
              "      <td>real</td>\n",
              "      <td>4054</td>\n",
              "      <td>[Transgender people will be allowed for the fi...</td>\n",
              "      <td>29.190476</td>\n",
              "      <td>transgender people will be allowed for the fir...</td>\n",
              "    </tr>\n",
              "    <tr>\n",
              "      <th>2</th>\n",
              "      <td>The special counsel investigation of links bet...</td>\n",
              "      <td>real</td>\n",
              "      <td>2766</td>\n",
              "      <td>[The special counsel investigation of links be...</td>\n",
              "      <td>26.882353</td>\n",
              "      <td>the special counsel investigation of links bet...</td>\n",
              "    </tr>\n",
              "    <tr>\n",
              "      <th>3</th>\n",
              "      <td>Trump campaign adviser George Papadopoulos tol...</td>\n",
              "      <td>real</td>\n",
              "      <td>2431</td>\n",
              "      <td>[Trump campaign adviser George Papadopoulos to...</td>\n",
              "      <td>23.312500</td>\n",
              "      <td>trump campaign adviser george papadopoulos tol...</td>\n",
              "    </tr>\n",
              "    <tr>\n",
              "      <th>4</th>\n",
              "      <td>President Donald Trump called on the U.S. Post...</td>\n",
              "      <td>real</td>\n",
              "      <td>5173</td>\n",
              "      <td>[President Donald Trump called on the U.S., Po...</td>\n",
              "      <td>20.850000</td>\n",
              "      <td>president donald trump called on the u.s. post...</td>\n",
              "    </tr>\n",
              "  </tbody>\n",
              "</table>\n",
              "</div>"
            ],
            "text/plain": [
              "                                                text  ...                                         text_lower\n",
              "0  The head of a conservative Republican faction ...  ...  the head of a conservative republican faction ...\n",
              "1  Transgender people will be allowed for the fir...  ...  transgender people will be allowed for the fir...\n",
              "2  The special counsel investigation of links bet...  ...  the special counsel investigation of links bet...\n",
              "3  Trump campaign adviser George Papadopoulos tol...  ...  trump campaign adviser george papadopoulos tol...\n",
              "4  President Donald Trump called on the U.S. Post...  ...  president donald trump called on the u.s. post...\n",
              "\n",
              "[5 rows x 6 columns]"
            ]
          },
          "execution_count": 56,
          "metadata": {
            "tags": []
          },
          "output_type": "execute_result"
        }
      ],
      "source": [
        "# Create column of lowercase text\n",
        "articles_df['text_lower'] = articles_df['text'].apply(lambda x: x.lower())\n",
        "\n",
        "articles_df.head()"
      ]
    },
    {
      "cell_type": "code",
      "execution_count": null,
      "metadata": {
        "colab": {
          "base_uri": "https://localhost:8080/"
        },
        "id": "9_SFHyQiz1Ug",
        "outputId": "bfe153dc-4195-4f1b-bdca-57de6e1b4c90"
      },
      "outputs": [
        {
          "name": "stdout",
          "output_type": "stream",
          "text": [
            "[nltk_data] Downloading package averaged_perceptron_tagger to\n",
            "[nltk_data]     /root/nltk_data...\n",
            "[nltk_data]   Package averaged_perceptron_tagger is already up-to-\n",
            "[nltk_data]       date!\n",
            "[nltk_data] Downloading package stopwords to /root/nltk_data...\n",
            "[nltk_data]   Package stopwords is already up-to-date!\n"
          ]
        }
      ],
      "source": [
        "from nltk.corpus import stopwords\n",
        "nltk.download('averaged_perceptron_tagger')\n",
        "nltk.download('stopwords')\n",
        "\n",
        "stopwords = set(stopwords.words('english')) "
      ]
    },
    {
      "cell_type": "markdown",
      "metadata": {
        "id": "MRUfT40u2pTA"
      },
      "source": [
        "We create a function that tokenizes text into words and removes stop words. "
      ]
    },
    {
      "cell_type": "code",
      "execution_count": null,
      "metadata": {
        "id": "HeuMRq3TfkjU"
      },
      "outputs": [],
      "source": [
        "def tokenize_text(article):\n",
        "  \"\"\" take a text string and\n",
        "  - tokenizes words\n",
        "  - lowers case\n",
        "  - removes stopwords\n",
        "  - remove non alpha tokens\n",
        "\n",
        "  :param article_list: list of strings\n",
        "  :return: list of cleaned text\n",
        "  \"\"\"\n",
        "\n",
        "  tok_text = nltk.word_tokenize(article)\n",
        "  tok_text = [word.lower() for word in tok_text]\n",
        "  tok_text = [word for word in tok_text if word not in stopwords]\n",
        "  tok_text = [word for word in tok_text if word.isalpha()]\n",
        "  \n",
        "\n",
        "  return tok_text"
      ]
    },
    {
      "cell_type": "code",
      "execution_count": null,
      "metadata": {
        "id": "47j4zWuGeLWQ"
      },
      "outputs": [],
      "source": [
        "# Create a list of text articles for each group\n",
        "real_text_list = list(articles_df.text[articles_df.group == \"real\"]) \n",
        "fakehum_text_list= list(articles_df.text[articles_df.group == \"fake_hum\"])\n",
        "ai_text_list = list(articles_df.text[articles_df.group == \"fake_ai\"])\n",
        "\n",
        "\n",
        "# Tokenize and clean the lists from stopwords\n",
        "# each result is list of lists containing words for each article\n",
        "real_word_list = [tokenize_text(article) for article in real_text_list] \n",
        "fakehum_word_list = [tokenize_text(article) for article in fakehum_text_list] \n",
        "ai_word_list = [tokenize_text(article) for article in ai_text_list] \n",
        "\n",
        "\n",
        "#flatten the list of lists into a single list of words\n",
        "flat_real_word_list = [word for article in real_word_list for word in article]\n",
        "flat_fakehum_word_list = [word for article in fakehum_word_list for word in article]\n",
        "flat_ai_word_list = [word for article in ai_word_list for word in article]"
      ]
    },
    {
      "cell_type": "code",
      "execution_count": null,
      "metadata": {
        "colab": {
          "base_uri": "https://localhost:8080/"
        },
        "id": "xl_h72ECiPTb",
        "outputId": "c9de9347-9785-4e70-f9e4-2f66c9121e29"
      },
      "outputs": [
        {
          "data": {
            "text/plain": [
              "[('said', 94947),\n",
              " ('trump', 52120),\n",
              " ('would', 30469),\n",
              " ('president', 25176),\n",
              " ('state', 18991),\n",
              " ('government', 17660),\n",
              " ('states', 15913),\n",
              " ('house', 15730),\n",
              " ('also', 15396),\n",
              " ('new', 15353),\n",
              " ('republican', 14780),\n",
              " ('united', 14775),\n",
              " ('people', 14528),\n",
              " ('told', 13637),\n",
              " ('could', 13229),\n",
              " ('last', 12240),\n",
              " ('one', 12148),\n",
              " ('party', 12059),\n",
              " ('two', 11185),\n",
              " ('election', 11148),\n",
              " ('year', 10624),\n",
              " ('campaign', 10233),\n",
              " ('former', 10122),\n",
              " ('donald', 9994),\n",
              " ('security', 9688),\n",
              " ('percent', 9679),\n",
              " ('north', 9384),\n",
              " ('clinton', 9222),\n",
              " ('court', 9085),\n",
              " ('white', 8902)]"
            ]
          },
          "execution_count": 99,
          "metadata": {
            "tags": []
          },
          "output_type": "execute_result"
        }
      ],
      "source": [
        "from collections import Counter\n",
        "\n",
        "# 50 most common words for real\n",
        "real_cnt = Counter(flat_real_word_list)\n",
        "real_most_common = real_cnt.most_common(50)\n",
        "\n",
        "# Show top 30\n",
        "real_most_common[:30]"
      ]
    },
    {
      "cell_type": "code",
      "execution_count": null,
      "metadata": {
        "colab": {
          "base_uri": "https://localhost:8080/"
        },
        "id": "rifFoX5tAE6Q",
        "outputId": "ca0aebc1-ee32-4817-d8de-68385ccec060"
      },
      "outputs": [
        {
          "data": {
            "text/plain": [
              "[('trump', 62411),\n",
              " ('said', 22051),\n",
              " ('people', 19781),\n",
              " ('president', 18432),\n",
              " ('would', 17100),\n",
              " ('one', 16460),\n",
              " ('donald', 14556),\n",
              " ('like', 13330),\n",
              " ('obama', 12119),\n",
              " ('clinton', 11765),\n",
              " ('even', 10476),\n",
              " ('also', 10359),\n",
              " ('via', 9960),\n",
              " ('white', 9553),\n",
              " ('new', 9473),\n",
              " ('time', 9345),\n",
              " ('news', 9162),\n",
              " ('image', 9010),\n",
              " ('hillary', 8974),\n",
              " ('us', 8223),\n",
              " ('get', 8178),\n",
              " ('state', 8132),\n",
              " ('campaign', 7978),\n",
              " ('know', 7959),\n",
              " ('going', 7667),\n",
              " ('house', 7617),\n",
              " ('republican', 7511),\n",
              " ('america', 7181),\n",
              " ('could', 7172),\n",
              " ('first', 6933)]"
            ]
          },
          "execution_count": 100,
          "metadata": {
            "tags": []
          },
          "output_type": "execute_result"
        }
      ],
      "source": [
        "# 50 most common words for fake_hum\n",
        "fakehum_cnt = Counter(flat_fakehum_word_list)\n",
        "fakehum_most_common = fakehum_cnt.most_common(50)\n",
        "\n",
        "# Show top 30\n",
        "fakehum_most_common[:30]"
      ]
    },
    {
      "cell_type": "code",
      "execution_count": null,
      "metadata": {
        "colab": {
          "base_uri": "https://localhost:8080/"
        },
        "id": "UljOihIeAErG",
        "outputId": "cc3f5cac-1b9f-4731-d815-5897ce52d02b"
      },
      "outputs": [
        {
          "data": {
            "text/plain": [
              "[('said', 322637),\n",
              " ('new', 207829),\n",
              " ('also', 173136),\n",
              " ('one', 165536),\n",
              " ('would', 164123),\n",
              " ('people', 159626),\n",
              " ('first', 111802),\n",
              " ('time', 110423),\n",
              " ('get', 100370),\n",
              " ('like', 98788),\n",
              " ('make', 95227),\n",
              " ('could', 90304),\n",
              " ('two', 88930),\n",
              " ('government', 84623),\n",
              " ('us', 81396),\n",
              " ('year', 76372),\n",
              " ('last', 73249),\n",
              " ('state', 73188),\n",
              " ('police', 72901),\n",
              " ('going', 70961),\n",
              " ('game', 69158),\n",
              " ('use', 68580),\n",
              " ('trump', 68485),\n",
              " ('may', 67738),\n",
              " ('many', 66074),\n",
              " ('way', 65811),\n",
              " ('years', 65482),\n",
              " ('see', 65451),\n",
              " ('world', 65355),\n",
              " ('want', 64943)]"
            ]
          },
          "execution_count": 101,
          "metadata": {
            "tags": []
          },
          "output_type": "execute_result"
        }
      ],
      "source": [
        "# 50 most common words for ai\n",
        "ai_cnt = Counter(flat_ai_word_list)\n",
        "ai_most_common = ai_cnt.most_common(50)\n",
        "\n",
        "# Show top 30\n",
        "ai_most_common[:30]"
      ]
    },
    {
      "cell_type": "code",
      "execution_count": null,
      "metadata": {
        "id": "GkqupHdKE-H5"
      },
      "outputs": [],
      "source": [
        "from wordcloud import WordCloud"
      ]
    },
    {
      "cell_type": "code",
      "execution_count": null,
      "metadata": {
        "colab": {
          "base_uri": "https://localhost:8080/"
        },
        "id": "Fc1W1r-sRyWu",
        "outputId": "c3adf841-8e8a-4a96-e4fd-9407aecf45cb"
      },
      "outputs": [
        {
          "data": {
            "text/plain": [
              "['trump',\n",
              " 'said',\n",
              " 'people',\n",
              " 'president',\n",
              " 'would',\n",
              " 'one',\n",
              " 'donald',\n",
              " 'like',\n",
              " 'obama',\n",
              " 'clinton',\n",
              " 'even',\n",
              " 'also',\n",
              " 'via',\n",
              " 'white',\n",
              " 'new',\n",
              " 'time',\n",
              " 'news',\n",
              " 'image',\n",
              " 'hillary',\n",
              " 'us',\n",
              " 'get',\n",
              " 'state',\n",
              " 'campaign',\n",
              " 'know',\n",
              " 'going',\n",
              " 'house',\n",
              " 'republican',\n",
              " 'america',\n",
              " 'could',\n",
              " 'first',\n",
              " 'make',\n",
              " 'right',\n",
              " 'many',\n",
              " 'states',\n",
              " 'american',\n",
              " 'media',\n",
              " 'say',\n",
              " 'think',\n",
              " 'made',\n",
              " 'country',\n",
              " 'way',\n",
              " 'republicans',\n",
              " 'told',\n",
              " 'video',\n",
              " 'back',\n",
              " 'election',\n",
              " 'women',\n",
              " 'years',\n",
              " 'two',\n",
              " 'want']"
            ]
          },
          "execution_count": 70,
          "metadata": {
            "tags": []
          },
          "output_type": "execute_result"
        }
      ],
      "source": [
        "real_words = []\n",
        "for i in range(len(real_most_common)):\n",
        "  # Add the word, not the frequency count\n",
        "  real_words.append(real_most_common[i][0])\n",
        "\n",
        "# List of most 50 common words in real\n",
        "real_words\n",
        "\n",
        "\n",
        "\n",
        "fake_words = []\n",
        "for i in range(len(fakehum_most_common)):\n",
        "  # Add the word, not the frequency count\n",
        "  fake_words.append(fakehum_most_common[i][0])\n",
        "\n",
        "# List of most 50 common words in fake\n",
        "fake_words"
      ]
    },
    {
      "cell_type": "code",
      "execution_count": null,
      "metadata": {
        "colab": {
          "base_uri": "https://localhost:8080/"
        },
        "id": "iY3IEx0ISzWi",
        "outputId": "4d30cef1-06cc-47d1-c2fb-27c5e6f9c3c3"
      },
      "outputs": [
        {
          "name": "stdout",
          "output_type": "stream",
          "text": [
            "77\n",
            "\n",
            "{'donald', 'republican', 'time', 'military', 'state', 'people', 'president', 'including', 'even', 'white', 'minister', 'administration', 'campaign', 'say', 'want', 'house', 'like', 'get', 'could', 'year', 'security', 'new', 'obama', 'first', 'since', 'also', 'image', 'right', 'way', 'presidential', 'china', 'video', 'hillary', 'court', 'democratic', 'officials', 'week', 'united', 'trump', 'law', 'tax', 'via', 'america', 'last', 'party', 'us', 'country', 'told', 'two', 'make', 'back', 'government', 'media', 'national', 'percent', 'former', 'know', 'north', 'one', 'tuesday', 'american', 'think', 'women', 'years', 'news', 'states', 'going', 'many', 'would', 'senate', 'made', 'election', 'wednesday', 'said', 'foreign', 'republicans', 'clinton'}\n"
          ]
        }
      ],
      "source": [
        "# Create set from the 50 most common words from both human-authored groups\n",
        "human_words = set(real_words + fake_words)\n",
        "\n",
        "print(len(human_words))\n",
        "print(\"\")\n",
        "print(human_words)"
      ]
    },
    {
      "cell_type": "code",
      "execution_count": null,
      "metadata": {
        "colab": {
          "base_uri": "https://localhost:8080/"
        },
        "id": "Hi8Qsqj5plOl",
        "outputId": "879564c0-fc59-40bd-9961-b65b9a0fa7f0"
      },
      "outputs": [
        {
          "data": {
            "text/plain": [
              "[('donald', 'JJ'),\n",
              " ('republican', 'JJ'),\n",
              " ('time', 'NN'),\n",
              " ('military', 'JJ'),\n",
              " ('state', 'NN'),\n",
              " ('people', 'NNS'),\n",
              " ('president', 'NN'),\n",
              " ('including', 'VBG'),\n",
              " ('even', 'RB'),\n",
              " ('white', 'JJ'),\n",
              " ('minister', 'NN'),\n",
              " ('administration', 'NN'),\n",
              " ('campaign', 'NN'),\n",
              " ('say', 'VBP'),\n",
              " ('want', 'VBP'),\n",
              " ('house', 'NN'),\n",
              " ('like', 'IN'),\n",
              " ('get', 'NN'),\n",
              " ('could', 'MD'),\n",
              " ('year', 'NN'),\n",
              " ('security', 'NN'),\n",
              " ('new', 'JJ'),\n",
              " ('obama', 'NN'),\n",
              " ('first', 'RB'),\n",
              " ('since', 'IN'),\n",
              " ('also', 'RB'),\n",
              " ('image', 'NN'),\n",
              " ('right', 'JJ'),\n",
              " ('way', 'NN'),\n",
              " ('presidential', 'JJ'),\n",
              " ('china', 'NN'),\n",
              " ('video', 'NN'),\n",
              " ('hillary', 'JJ'),\n",
              " ('court', 'NN'),\n",
              " ('democratic', 'JJ'),\n",
              " ('officials', 'NNS'),\n",
              " ('week', 'NN'),\n",
              " ('united', 'JJ'),\n",
              " ('trump', 'NN'),\n",
              " ('law', 'NN'),\n",
              " ('tax', 'NN'),\n",
              " ('via', 'IN'),\n",
              " ('america', 'NN'),\n",
              " ('last', 'JJ'),\n",
              " ('party', 'NN'),\n",
              " ('us', 'PRP'),\n",
              " ('country', 'NN'),\n",
              " ('told', 'VBD'),\n",
              " ('two', 'CD'),\n",
              " ('make', 'VBP'),\n",
              " ('back', 'JJ'),\n",
              " ('government', 'NN'),\n",
              " ('media', 'NNS'),\n",
              " ('national', 'JJ'),\n",
              " ('percent', 'NN'),\n",
              " ('former', 'JJ'),\n",
              " ('know', 'VBP'),\n",
              " ('north', 'RB'),\n",
              " ('one', 'CD'),\n",
              " ('tuesday', 'JJ'),\n",
              " ('american', 'JJ'),\n",
              " ('think', 'VBP'),\n",
              " ('women', 'NNS'),\n",
              " ('years', 'NNS'),\n",
              " ('news', 'NN'),\n",
              " ('states', 'VBZ'),\n",
              " ('going', 'VBG'),\n",
              " ('many', 'JJ'),\n",
              " ('would', 'MD'),\n",
              " ('senate', 'VB'),\n",
              " ('made', 'VBN'),\n",
              " ('election', 'NN'),\n",
              " ('wednesday', 'NN'),\n",
              " ('said', 'VBD'),\n",
              " ('foreign', 'JJ'),\n",
              " ('republicans', 'NNS'),\n",
              " ('clinton', 'VBP')]"
            ]
          },
          "execution_count": 72,
          "metadata": {
            "tags": []
          },
          "output_type": "execute_result"
        }
      ],
      "source": [
        "# Tag most common human-authored words with parts of speech\n",
        "nltk.pos_tag(human_words)"
      ]
    },
    {
      "cell_type": "markdown",
      "metadata": {
        "id": "PLDF5BRPU63o"
      },
      "source": [
        "By keeping nouns ONLY, we get a useful list of news-worthy words"
      ]
    },
    {
      "cell_type": "code",
      "execution_count": null,
      "metadata": {
        "colab": {
          "base_uri": "https://localhost:8080/"
        },
        "id": "nSAsXd9cnNYs",
        "outputId": "26ca3a72-d0d7-4fb2-9a45-15f2ddf3113f"
      },
      "outputs": [
        {
          "data": {
            "text/plain": [
              "['time',\n",
              " 'state',\n",
              " 'president',\n",
              " 'minister',\n",
              " 'administration',\n",
              " 'campaign',\n",
              " 'house',\n",
              " 'get',\n",
              " 'year',\n",
              " 'security',\n",
              " 'obama',\n",
              " 'image',\n",
              " 'way',\n",
              " 'china',\n",
              " 'video',\n",
              " 'court',\n",
              " 'week',\n",
              " 'trump',\n",
              " 'law',\n",
              " 'tax',\n",
              " 'america',\n",
              " 'party',\n",
              " 'country',\n",
              " 'government',\n",
              " 'percent',\n",
              " 'news',\n",
              " 'election',\n",
              " 'wednesday']"
            ]
          },
          "execution_count": 73,
          "metadata": {
            "tags": []
          },
          "output_type": "execute_result"
        }
      ],
      "source": [
        "# keep only nouns in human_words\n",
        "tagged_human_words = nltk.pos_tag(human_words)\n",
        "\n",
        "human_nouns = [word_tag_pair[0] for word_tag_pair in tagged_human_words if word_tag_pair[1] == 'NN']\n",
        "human_nouns "
      ]
    },
    {
      "cell_type": "code",
      "execution_count": null,
      "metadata": {
        "colab": {
          "base_uri": "https://localhost:8080/"
        },
        "id": "Jk7Old0frQxA",
        "outputId": "330b30db-bc5f-4f55-ba13-d6cbc93511b5"
      },
      "outputs": [
        {
          "data": {
            "text/plain": [
              "['state',\n",
              " 'president',\n",
              " 'minister',\n",
              " 'administration',\n",
              " 'campaign',\n",
              " 'house',\n",
              " 'security',\n",
              " 'obama',\n",
              " 'china',\n",
              " 'court',\n",
              " 'trump',\n",
              " 'law',\n",
              " 'tax',\n",
              " 'america',\n",
              " 'party',\n",
              " 'country',\n",
              " 'government',\n",
              " 'percent',\n",
              " 'news',\n",
              " 'election',\n",
              " 'wednesday']"
            ]
          },
          "execution_count": 74,
          "metadata": {
            "tags": []
          },
          "output_type": "execute_result"
        }
      ],
      "source": [
        "# Remove the following words: way, image, time, year, video, get, week\n",
        "human_nouns = [word for word in human_nouns if word not in ['way', 'time', 'image', 'year', 'video', 'get', 'week']]\n",
        "\n",
        "# Final list\n",
        "human_nouns"
      ]
    },
    {
      "cell_type": "code",
      "execution_count": null,
      "metadata": {
        "id": "_yL-qCfWb5dX"
      },
      "outputs": [],
      "source": [
        "def contains_word_in_list(text, word_list):\n",
        "  \"\"\" Given a text string, returns true if string contains any word in word_list\n",
        "  else returns false\n",
        "\n",
        "  :param - text -- string\n",
        "  : word_list - a list of words\n",
        "  \"\"\"\n",
        "  if any(word in text for word in word_list):\n",
        "    return True\n",
        "  else:\n",
        "    return False"
      ]
    },
    {
      "cell_type": "code",
      "execution_count": null,
      "metadata": {
        "id": "7TYRjk1ecnTE"
      },
      "outputs": [],
      "source": [
        "# Create column\n",
        "articles_df[\"contains_human_word\"] = articles_df['text_lower'].apply(lambda x: contains_word_in_list(x, human_nouns))"
      ]
    },
    {
      "cell_type": "code",
      "execution_count": null,
      "metadata": {
        "colab": {
          "base_uri": "https://localhost:8080/"
        },
        "id": "VCp55VvidaFU",
        "outputId": "81ed8eba-37c7-451a-b059-46568b84a040"
      },
      "outputs": [
        {
          "name": "stdout",
          "output_type": "stream",
          "text": [
            "# of articles for real: 20034\n",
            "# of articles for fake_hum: 16307\n",
            "# of articles for fake_ai: 164697\n"
          ]
        }
      ],
      "source": [
        "# Lets recount how many articles we have before dropping more AI articles\n",
        "\n",
        "print(\"# of articles for real: \" + str(len(articles_df[articles_df['group'] == 'real'])))\n",
        "print(\"# of articles for fake_hum: \" + str(len(articles_df[articles_df['group'] == 'fake_hum'])))\n",
        "print(\"# of articles for fake_ai: \" + str(len(articles_df[articles_df['group'] == 'fake_ai'])))"
      ]
    },
    {
      "cell_type": "code",
      "execution_count": null,
      "metadata": {
        "colab": {
          "base_uri": "https://localhost:8080/"
        },
        "id": "1aa4vJZ_UOpu",
        "outputId": "5b85a3b4-a29b-429f-8ac3-4a7f271630f7"
      },
      "outputs": [
        {
          "name": "stdout",
          "output_type": "stream",
          "text": [
            "# of articles for real: 20034\n",
            "# of articles for fake_hum: 16307\n",
            "# of articles for fake_ai: 116775\n"
          ]
        }
      ],
      "source": [
        "# Drop AI_articles without human news words\n",
        "articles_df.drop(articles_df[(articles_df.group==\"fake_ai\") & (articles_df.contains_human_word==False)].index, inplace=True)\n",
        "\n",
        "# Drop contains_human_word column because no longer needed\n",
        "articles_df.drop(['contains_human_word'], axis=1, inplace=True)\n",
        "\n",
        "# Reset index\n",
        "articles_df.reset_index(drop=True, inplace=True)\n",
        "\n",
        "print(\"# of articles for real: \" + str(len(articles_df[articles_df['group'] == 'real'])))\n",
        "print(\"# of articles for fake_hum: \" + str(len(articles_df[articles_df['group'] == 'fake_hum'])))\n",
        "print(\"# of articles for fake_ai: \" + str(len(articles_df[articles_df['group'] == 'fake_ai'])))"
      ]
    },
    {
      "cell_type": "code",
      "execution_count": null,
      "metadata": {
        "colab": {
          "base_uri": "https://localhost:8080/"
        },
        "id": "VXZ6AzHDxi3n",
        "outputId": "3599adad-2762-4b69-bd99-3456186ea121"
      },
      "outputs": [
        {
          "data": {
            "text/plain": [
              "[('said', 322637),\n",
              " ('new', 207829),\n",
              " ('also', 173136),\n",
              " ('one', 165536),\n",
              " ('would', 164123),\n",
              " ('people', 159626),\n",
              " ('first', 111802),\n",
              " ('time', 110423),\n",
              " ('get', 100370),\n",
              " ('like', 98788),\n",
              " ('make', 95227),\n",
              " ('could', 90304),\n",
              " ('two', 88930),\n",
              " ('government', 84623),\n",
              " ('us', 81396)]"
            ]
          },
          "execution_count": 85,
          "metadata": {
            "tags": []
          },
          "output_type": "execute_result"
        }
      ],
      "source": [
        "# AI most common words before drop\n",
        "ai_most_common[:15]"
      ]
    },
    {
      "cell_type": "code",
      "execution_count": null,
      "metadata": {
        "colab": {
          "base_uri": "https://localhost:8080/"
        },
        "id": "JhjFx4p2xOfV",
        "outputId": "96434801-3766-44a8-b4f5-6a8923e112e4"
      },
      "outputs": [
        {
          "data": {
            "text/plain": [
              "[('said', 292242),\n",
              " ('new', 154735),\n",
              " ('also', 134873),\n",
              " ('would', 134161),\n",
              " ('people', 130194),\n",
              " ('one', 117196),\n",
              " ('government', 84623),\n",
              " ('first', 78657),\n",
              " ('time', 77888),\n",
              " ('state', 73188),\n",
              " ('could', 69682),\n",
              " ('trump', 68485),\n",
              " ('two', 67585),\n",
              " ('get', 66173),\n",
              " ('us', 65994)]"
            ]
          },
          "execution_count": 84,
          "metadata": {
            "tags": []
          },
          "output_type": "execute_result"
        }
      ],
      "source": [
        "# AI most common words after drop\n",
        "new_ai_most_common = new_ai_cnt.most_common(50)\n",
        "new_ai_most_common[:15]"
      ]
    },
    {
      "cell_type": "code",
      "execution_count": null,
      "metadata": {
        "colab": {
          "base_uri": "https://localhost:8080/",
          "height": 289
        },
        "id": "vh3hnEL2d4u8",
        "outputId": "ff431251-dfa3-4c0f-d1a7-b9ac38ea9f3d"
      },
      "outputs": [
        {
          "data": {
            "text/html": [
              "<div>\n",
              "<style scoped>\n",
              "    .dataframe tbody tr th:only-of-type {\n",
              "        vertical-align: middle;\n",
              "    }\n",
              "\n",
              "    .dataframe tbody tr th {\n",
              "        vertical-align: top;\n",
              "    }\n",
              "\n",
              "    .dataframe thead th {\n",
              "        text-align: right;\n",
              "    }\n",
              "</style>\n",
              "<table border=\"1\" class=\"dataframe\">\n",
              "  <thead>\n",
              "    <tr style=\"text-align: right;\">\n",
              "      <th></th>\n",
              "      <th>text</th>\n",
              "      <th>group</th>\n",
              "      <th>length</th>\n",
              "      <th>sentences</th>\n",
              "      <th>words_per_sent</th>\n",
              "      <th>text_lower</th>\n",
              "      <th>sentiment</th>\n",
              "    </tr>\n",
              "  </thead>\n",
              "  <tbody>\n",
              "    <tr>\n",
              "      <th>0</th>\n",
              "      <td>The head of a conservative Republican faction ...</td>\n",
              "      <td>real</td>\n",
              "      <td>4636</td>\n",
              "      <td>[The head of a conservative Republican faction...</td>\n",
              "      <td>24.700000</td>\n",
              "      <td>the head of a conservative republican faction ...</td>\n",
              "      <td>6.0</td>\n",
              "    </tr>\n",
              "    <tr>\n",
              "      <th>1</th>\n",
              "      <td>Transgender people will be allowed for the fir...</td>\n",
              "      <td>real</td>\n",
              "      <td>4054</td>\n",
              "      <td>[Transgender people will be allowed for the fi...</td>\n",
              "      <td>29.190476</td>\n",
              "      <td>transgender people will be allowed for the fir...</td>\n",
              "      <td>3.0</td>\n",
              "    </tr>\n",
              "    <tr>\n",
              "      <th>2</th>\n",
              "      <td>The special counsel investigation of links bet...</td>\n",
              "      <td>real</td>\n",
              "      <td>2766</td>\n",
              "      <td>[The special counsel investigation of links be...</td>\n",
              "      <td>26.882353</td>\n",
              "      <td>the special counsel investigation of links bet...</td>\n",
              "      <td>-9.0</td>\n",
              "    </tr>\n",
              "    <tr>\n",
              "      <th>3</th>\n",
              "      <td>Trump campaign adviser George Papadopoulos tol...</td>\n",
              "      <td>real</td>\n",
              "      <td>2431</td>\n",
              "      <td>[Trump campaign adviser George Papadopoulos to...</td>\n",
              "      <td>23.312500</td>\n",
              "      <td>trump campaign adviser george papadopoulos tol...</td>\n",
              "      <td>-15.0</td>\n",
              "    </tr>\n",
              "    <tr>\n",
              "      <th>4</th>\n",
              "      <td>President Donald Trump called on the U.S. Post...</td>\n",
              "      <td>real</td>\n",
              "      <td>5173</td>\n",
              "      <td>[President Donald Trump called on the U.S., Po...</td>\n",
              "      <td>20.850000</td>\n",
              "      <td>president donald trump called on the u.s. post...</td>\n",
              "      <td>-15.0</td>\n",
              "    </tr>\n",
              "  </tbody>\n",
              "</table>\n",
              "</div>"
            ],
            "text/plain": [
              "                                                text  ... sentiment\n",
              "0  The head of a conservative Republican faction ...  ...       6.0\n",
              "1  Transgender people will be allowed for the fir...  ...       3.0\n",
              "2  The special counsel investigation of links bet...  ...      -9.0\n",
              "3  Trump campaign adviser George Papadopoulos tol...  ...     -15.0\n",
              "4  President Donald Trump called on the U.S. Post...  ...     -15.0\n",
              "\n",
              "[5 rows x 7 columns]"
            ]
          },
          "execution_count": 109,
          "metadata": {
            "tags": []
          },
          "output_type": "execute_result"
        }
      ],
      "source": [
        "# Final df\n",
        "articles_df.head()"
      ]
    },
    {
      "cell_type": "code",
      "execution_count": null,
      "metadata": {
        "id": "GEoVbCpRzgEx"
      },
      "outputs": [],
      "source": [
        "from sklearn.feature_extraction.text import TfidfVectorizer\n",
        "from sklearn.preprocessing import normalize\n",
        "from sklearn.metrics import pairwise_distances\n",
        "\n",
        "real_text = articles_df[articles_df['group'] == \"real\"][['text','group']][:1000]\n",
        "fake_text = articles_df[articles_df['group']=='fake_hum'][['text','group']][:500]\n",
        "ai_text = articles_df[articles_df['group']=='fake_ai'][['text','group']][:500]\n",
        "\n",
        "# Clustering\n",
        "clustering_text_X = real_text['text'].append(fake_text['text']).append(ai_text['text'])\n",
        "\n",
        "# Classification - Real vs. AI\n",
        "# X = real_ai_text_X | y = real_ai_text_y\n",
        "real_ai_text_X = real_text['text'][:500].append(ai_text['text'])\n",
        "real_ai_text_y_raw = real_text['group'][:500].append(ai_text['group'])\n",
        "real_ai_text_y = []\n",
        "for val in real_ai_text_y_raw:\n",
        "  if val == 'real':\n",
        "    real_ai_text_y.append(0)\n",
        "  else:\n",
        "    real_ai_text_y.append(1)\n",
        "\n",
        "# Classification - Real vs. Human\n",
        "# X = real_human_text_X | y = real_human_text_y\n",
        "real_human_text_X = real_text['text'][:500].append(fake_text['text'])\n",
        "real_human_text_y_raw = real_text['group'][:500].append(fake_text['group'])\n",
        "real_human_text_y = []\n",
        "for val in real_human_text_y_raw:\n",
        "  if val == 'real':\n",
        "    real_human_text_y.append(0)\n",
        "  else:\n",
        "    real_human_text_y.append(1)\n",
        "\n",
        "# Classification - Real vs. All Fake\n",
        "# X = real_allfake_text_X | y = real_allfake_text_y\n",
        "real_allfake_text_X = real_text['text'].append(fake_text['text']).append(ai_text['text'])\n",
        "real_allfake_text_y_raw = real_text['group'].append(fake_text['group']).append(ai_text['group'])\n",
        "real_allfake_text_y = []\n",
        "real_allfake_text_clusters = []\n",
        "for val in real_allfake_text_y_raw:\n",
        "  if val == 'real':\n",
        "    real_allfake_text_clusters.append(1)\n",
        "    real_allfake_text_y.append(0)   \n",
        "  elif val == 'fake_hum':\n",
        "    real_allfake_text_clusters.append(2)\n",
        "    real_allfake_text_y.append(1)\n",
        "  else:\n",
        "    real_allfake_text_clusters.append(0)\n",
        "    real_allfake_text_y.append(1)\n"
      ]
    },
    {
      "cell_type": "code",
      "execution_count": null,
      "metadata": {
        "id": "k4hqV2cvNi6y"
      },
      "outputs": [],
      "source": [
        "tf_idf_vectorizor = TfidfVectorizer()\n",
        "tf_idf = tf_idf_vectorizor.fit_transform(real_ai_text_X)\n",
        "tf_idf_norm = normalize(tf_idf)\n",
        "X_real_ai = tf_idf_norm.toarray()\n",
        "\n",
        "tf_idf_vectorizor2 = TfidfVectorizer()\n",
        "tf_idf2 = tf_idf_vectorizor2.fit_transform(real_human_text_X)\n",
        "tf_idf_norm2 = normalize(tf_idf2)\n",
        "X_real_human = tf_idf_norm2.toarray()\n",
        "\n",
        "tf_idf_vectorizor3 = TfidfVectorizer()\n",
        "tf_idf3 = tf_idf_vectorizor3.fit_transform(real_allfake_text_X)\n",
        "tf_idf_norm3 = normalize(tf_idf3)\n",
        "X_real_allfake = tf_idf_norm3.toarray()"
      ]
    },
    {
      "cell_type": "code",
      "execution_count": null,
      "metadata": {
        "colab": {
          "base_uri": "https://localhost:8080/",
          "height": 663
        },
        "id": "VKeHCnrf0MNt",
        "outputId": "c9511071-e032-4f95-b6ed-f3058e6681c7"
      },
      "outputs": [
        {
          "data": {
            "image/png": "[encoded data removed]",
            "text/plain": [
              "<Figure size 1080x360 with 1 Axes>"
            ]
          },
          "metadata": {
            "needs_background": "light",
            "tags": []
          },
          "output_type": "display_data"
        },
        {
          "data": {
            "image/png": "[encoded data removed]",
            "text/plain": [
              "<Figure size 1080x360 with 1 Axes>"
            ]
          },
          "metadata": {
            "needs_background": "light",
            "tags": []
          },
          "output_type": "display_data"
        }
      ],
      "source": [
        "from sklearn.cluster import KMeans\n",
        "from sklearn.decomposition import PCA\n",
        "sklearn_pca = PCA(n_components = 2)\n",
        "Y_sklearn = sklearn_pca.fit_transform(X_real_allfake)\n",
        "kmeans = KMeans(n_clusters=3, max_iter=600, algorithm = 'auto')\n",
        "fitted = kmeans.fit(Y_sklearn)\n",
        "prediction = kmeans.predict(Y_sklearn)\n",
        "\n",
        "clustering_df = pd.DataFrame(Y_sklearn)\n",
        "clustering_df.columns = ['x', 'y']\n",
        "clustering_df['prediction'] = prediction\n",
        "\n",
        "plt.scatter(Y_sklearn[:,0],Y_sklearn[:,1], c = prediction);\n",
        "plt.title(\"Clustering Algorithm on Principal Components of Data (Subset)\", size = 18)\n",
        "plt.gcf().set_size_inches(15,5)\n",
        "\n",
        "plt.figure()\n",
        "plt.scatter(Y_sklearn[:,0],Y_sklearn[:,1], c = real_allfake_text_clusters);\n",
        "plt.title(\"Actual Classes on Principal Components of Data (Subset)\", size = 18)\n",
        "plt.gcf().set_size_inches(15,5)"
      ]
    },
    {
      "cell_type": "code",
      "execution_count": null,
      "metadata": {
        "id": "2wGT3lABicBs"
      },
      "outputs": [],
      "source": [
        "from sklearn.feature_extraction.text import TfidfVectorizer\n",
        "from sklearn.preprocessing import normalize\n",
        "from sklearn.metrics import pairwise_distances\n",
        "\n",
        "# Limiting to 16,000 to control for different samples sizes between groups\n",
        "real_text = articles_df[articles_df['group'] == \"real\"][['sentences','group']][:16000]\n",
        "fake_text = articles_df[articles_df['group']=='fake_hum'][['sentences','group']][:16000]\n",
        "ai_text = articles_df[articles_df['group']=='fake_ai'][['sentences','group']][:16000]\n",
        "\n",
        "# Clustering\n",
        "clustering_text_X = real_text['sentences'].append(fake_text['sentences']).append(ai_text['sentences'])\n",
        "\n",
        "# Classification - Real vs. AI\n",
        "# X = real_ai_text_X | y = real_ai_text_y\n",
        "real_ai_text_X = real_text['sentences'].append(ai_text['sentences'])\n",
        "real_ai_text_y_raw = real_text['group'].append(ai_text['group'])\n",
        "real_ai_text_y = []\n",
        "for val in real_ai_text_y_raw:\n",
        "  if val == 'real':\n",
        "    real_ai_text_y.append(0)\n",
        "  else:\n",
        "    real_ai_text_y.append(1)\n",
        "\n",
        "# Classification - Real vs. Human\n",
        "# X = real_human_text_X | y = real_human_text_y\n",
        "real_human_text_X = real_text['sentences'].append(fake_text['sentences'])\n",
        "real_human_text_y_raw = real_text['group'].append(fake_text['group'])\n",
        "real_human_text_y = []\n",
        "for val in real_human_text_y_raw:\n",
        "  if val == 'real':\n",
        "    real_human_text_y.append(0)\n",
        "  else:\n",
        "    real_human_text_y.append(1)\n",
        "\n",
        "# Classification - Real vs. All Fake\n",
        "# X = real_allfake_text_X | y = real_allfake_text_y\n",
        "real_allfake_text_X = real_text['sentences'].append(fake_text['sentences'][:8000]).append(ai_text['sentences'][:10000])\n",
        "real_allfake_text_y_raw = real_text['group'].append(fake_text['group'][:8000]).append(ai_text['group'][:10000])\n",
        "real_allfake_text_y = []\n",
        "real_allfake_text_clusters = []\n",
        "for val in real_allfake_text_y_raw:\n",
        "  if val == 'real':\n",
        "    real_allfake_text_clusters.append(2)\n",
        "    real_allfake_text_y.append(0)   \n",
        "  elif val == 'fake_hum':\n",
        "    real_allfake_text_clusters.append(0)\n",
        "    real_allfake_text_y.append(1)\n",
        "  else:\n",
        "    real_allfake_text_clusters.append(1)\n",
        "    real_allfake_text_y.append(1)\n"
      ]
    },
    {
      "cell_type": "code",
      "execution_count": null,
      "metadata": {
        "id": "fjNo3OgbicBs"
      },
      "outputs": [],
      "source": [
        "from sklearn.feature_extraction.text import HashingVectorizer\n",
        "from sklearn.feature_extraction.text import TfidfTransformer\n",
        "from gensim.models import TfidfModel\n",
        "from gensim.corpora import Dictionary\n",
        "from gensim.matutils import corpus2csc\n",
        "\n",
        "real_ai_text_X_raw = Dictionary(real_ai_text_X)\n",
        "real_allfake_text_X_raw = Dictionary(real_allfake_text_X)\n",
        "real_human_text_X_raw = Dictionary(real_human_text_X)\n",
        "\n",
        "real_ai_corpus = [real_ai_text_X_raw.doc2bow(line) for line in real_ai_text_X]\n",
        "real_allfake_corpus = [real_allfake_text_X_raw.doc2bow(line) for line in real_allfake_text_X]\n",
        "real_human_corpus = [real_human_text_X_raw.doc2bow(line) for line in real_human_text_X]\n",
        "\n",
        "real_ai_model = TfidfModel(real_ai_corpus)\n",
        "real_allfake_model = TfidfModel(real_allfake_corpus)\n",
        "real_human_model = TfidfModel(real_human_corpus)\n",
        "\n",
        "real_ai_vector = real_ai_model[real_ai_corpus]\n",
        "real_allfake_vector = real_allfake_model[real_allfake_corpus]\n",
        "real_human_vector = real_human_model[real_human_corpus]\n",
        "\n",
        "real_ai_X = corpus2csc(real_ai_vector).T\n",
        "real_allfake_X = corpus2csc(real_allfake_vector).T\n",
        "real_human_X = corpus2csc(real_human_vector).T\n",
        "\n"
      ]
    },
    {
      "cell_type": "code",
      "execution_count": null,
      "metadata": {
        "colab": {
          "base_uri": "https://localhost:8080/",
          "height": 663
        },
        "id": "NErHdYsXicBs",
        "outputId": "297c777e-d432-4c6e-861c-511704a882c3"
      },
      "outputs": [
        {
          "data": {
            "image/png": "[encoded data removed]",
            "text/plain": [
              "<Figure size 1080x360 with 1 Axes>"
            ]
          },
          "metadata": {
            "needs_background": "light",
            "tags": []
          },
          "output_type": "display_data"
        },
        {
          "data": {
            "image/png": "[encoded data removed]",
            "text/plain": [
              "<Figure size 1080x360 with 1 Axes>"
            ]
          },
          "metadata": {
            "needs_background": "light",
            "tags": []
          },
          "output_type": "display_data"
        }
      ],
      "source": [
        "from sklearn.cluster import KMeans\n",
        "from sklearn.decomposition import PCA\n",
        "from sklearn.decomposition import TruncatedSVD\n",
        "\n",
        "sklearn_pca = TruncatedSVD(n_components = 2)\n",
        "Y_sklearn = sklearn_pca.fit_transform(real_allfake_X)\n",
        "kmeans = KMeans(n_clusters=3, max_iter=600, algorithm = 'auto')\n",
        "fitted = kmeans.fit(Y_sklearn)\n",
        "prediction = kmeans.predict(Y_sklearn)\n",
        "\n",
        "clustering_df = pd.DataFrame(Y_sklearn)\n",
        "clustering_df.columns = ['x', 'y']\n",
        "clustering_df['prediction'] = prediction\n",
        "\n",
        "\n",
        "plt.scatter(Y_sklearn[:,0],Y_sklearn[:,1], c = prediction);\n",
        "plt.title(\"Clustering Algorithm on Principal Components of Data (All Data)\", size = 18)\n",
        "plt.gcf().set_size_inches(15,5)\n",
        "\n",
        "plt.figure()\n",
        "plt.scatter(Y_sklearn[:,0],Y_sklearn[:,1], c = real_allfake_text_clusters);\n",
        "plt.title(\"Actual Classes on Principal Components of Data (All Data)\", size = 18)\n",
        "plt.gcf().set_size_inches(15,5)\n",
        "\n",
        "plt.show()"
      ]
    },
    {
      "cell_type": "markdown",
      "metadata": {
        "id": "g8TwkMR2icBt"
      },
      "source": [
        "**Logistic Regression (1) - Real News vs. AI News**\n",
        "\n",
        "\n",
        "\n"
      ]
    },
    {
      "cell_type": "code",
      "execution_count": null,
      "metadata": {
        "colab": {
          "base_uri": "https://localhost:8080/"
        },
        "id": "jCe84TyjicBt",
        "outputId": "02f346ec-d0fd-4b8e-9084-6f6a0a151bb5"
      },
      "outputs": [
        {
          "name": "stdout",
          "output_type": "stream",
          "text": [
            "Accuracy:  92.09375 %\n"
          ]
        }
      ],
      "source": [
        "from sklearn.linear_model import LogisticRegression\n",
        "from sklearn.model_selection import train_test_split\n",
        "\n",
        "X = real_ai_X\n",
        "y = real_ai_text_y\n",
        "X_train, X_test, y_train, y_test = train_test_split(X, y, test_size=0.2, random_state=42)\n",
        "\n",
        "lr = LogisticRegression()\n",
        "logit = lr.fit(X_train,y_train)\n",
        "y_predict = logit.predict(X_test)\n",
        "\n",
        "\n",
        "print(\"Accuracy: \", logit.score(X, y)*100,\"%\")"
      ]
    },
    {
      "cell_type": "markdown",
      "metadata": {
        "id": "J0Ra6IDsicBu"
      },
      "source": [
        "**SVM (1) - Real News vs. AI News**"
      ]
    },
    {
      "cell_type": "code",
      "execution_count": null,
      "metadata": {
        "colab": {
          "base_uri": "https://localhost:8080/"
        },
        "id": "aC15-J86icBu",
        "outputId": "dbd928d2-a7fe-499b-fa03-3564c64c4d45"
      },
      "outputs": [
        {
          "name": "stdout",
          "output_type": "stream",
          "text": [
            "Accuracy:  90.48125 %\n"
          ]
        }
      ],
      "source": [
        "from sklearn.svm import SVC\n",
        "\n",
        "X = real_ai_X\n",
        "y = real_ai_text_y\n",
        "X_train, X_test, y_train, y_test = train_test_split(X, y, test_size=0.2, random_state=42)\n",
        "\n",
        "svc = SVC()\n",
        "svm = svc.fit(X_train,y_train)\n",
        "y_predict = svm.predict(X_test)\n",
        "\n",
        "print(\"Accuracy: \", svm.score(X, y)*100,\"%\")"
      ]
    }
  ],
  "metadata": {
    "colab": {
      "collapsed_sections": [],
      "include_colab_link": true,
      "name": "Copy of Big Data Project.ipynb",
      "provenance": [],
      "toc_visible": true
    },
    "kernelspec": {
      "display_name": "Python 3",
      "name": "python3"
    },
    "language_info": {
      "codemirror_mode": {
        "name": "ipython",
        "version": 3
      },
      "file_extension": ".py",
      "mimetype": "text/x-python",
      "name": "python",
      "nbconvert_exporter": "python",
      "pygments_lexer": "ipython3",
      "version": "3.11.5"
    }
  },
  "nbformat": 4,
  "nbformat_minor": 0
}
